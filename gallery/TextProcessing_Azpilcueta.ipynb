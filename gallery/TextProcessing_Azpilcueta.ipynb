{
 "cells": [
  {
   "cell_type": "markdown",
   "metadata": {},
   "source": [
    "# Text Processing"
   ]
  },
  {
   "cell_type": "markdown",
   "metadata": {
    "toc": "true"
   },
   "source": [
    "# Table of Contents\n",
    " <p><div class=\"lev1 toc-item\"><a href=\"#Text-Processing\" data-toc-modified-id=\"Text-Processing-1\"><span class=\"toc-item-num\">1&nbsp;&nbsp;</span>Text Processing</a></div><div class=\"lev2 toc-item\"><a href=\"#Introduction\" data-toc-modified-id=\"Introduction-11\"><span class=\"toc-item-num\">1.1&nbsp;&nbsp;</span>Introduction</a></div><div class=\"lev1 toc-item\"><a href=\"#Preparations\" data-toc-modified-id=\"Preparations-2\"><span class=\"toc-item-num\">2&nbsp;&nbsp;</span>Preparations</a></div><div class=\"lev2 toc-item\"><a href=\"#TF/IDF-\" data-toc-modified-id=\"TF/IDF--21\"><span class=\"toc-item-num\">2.1&nbsp;&nbsp;</span>TF/IDF </a></div><div class=\"lev2 toc-item\"><a href=\"#Translations?\" data-toc-modified-id=\"Translations?-22\"><span class=\"toc-item-num\">2.2&nbsp;&nbsp;</span>Translations?</a></div><div class=\"lev2 toc-item\"><a href=\"#Similarity-\" data-toc-modified-id=\"Similarity--23\"><span class=\"toc-item-num\">2.3&nbsp;&nbsp;</span>Similarity </a></div><div class=\"lev2 toc-item\"><a href=\"#Word-Clouds-\" data-toc-modified-id=\"Word-Clouds--24\"><span class=\"toc-item-num\">2.4&nbsp;&nbsp;</span>Word Clouds </a></div>"
   ]
  },
  {
   "cell_type": "markdown",
   "metadata": {},
   "source": [
    "## Introduction"
   ]
  },
  {
   "cell_type": "markdown",
   "metadata": {},
   "source": [
    "This file is the continuation of preceding work. Previously, I have worked my way through a couple of text-analysing approaches - such as tf/idf frequencies, n-grams and the like - in the context of a project concerned with Juan de Solórzano Pereira's *Politica Indiana*. This can be seen [here](TextProcessing_Solorzano.ipynb).\n",
    "\n",
    "In the former context, I got somewhat stuck when I was trying to automatically align corresponding passages of two editions of the same work ... where the one edition would be a **translation** of the other and thus we would have two different languages.\n",
    "\n",
    "The present file takes this up, tries to refine an approach taken there and to find alternative ways of analysing a text across several languages. This time, the work concerned is Martín de Azpilcueta's *Manual de confesores*, a work of the 16th century that has seen very many editions and translations, quite a few of them even by the work's original author and it is the subject of the research project [\"Martín de Azpilcueta’s Manual for Confessors and the Phenomenon of Epitomisation\"](http://www.rg.mpg.de/research/martin-de-azpilcuetas-manual-for-confessors) by Manuela Bragagnolo. \n",
    "\n",
    "(There are a few DH-ey things about the project that are not directly of concern here, like a synoptic display of several editions or the presentation of the divergence of many actual translations of a given term. Such aspects are being treated with other software, like [HyperMachiavel](http://hyperprince.ens-lyon.fr/hypermachiavel) or [Lera](http://lera.uzi.uni-halle.de/).)"
   ]
  },
  {
   "cell_type": "markdown",
   "metadata": {},
   "source": [
    "As in the previous case, the programming language used in the following examples is called \"python\" and the tool used to get prose discussion and code samples together is called [\"jupyter\"](http://jupyter.org/). (A common way of installing both the language and the jupyter software, especially in windows, is by installing a python \"distribution\" like [Anaconda](https://www.anaconda.com/what-is-anaconda/).) In jupyter, you have a \"notebook\" that you can populate with text (if you want to use it, jupyter understands [markdown](http://jupyter-notebook.readthedocs.io/en/stable/examples/Notebook/Working%20With%20Markdown%20Cells.html) code formatting), or code and a program that pipes a nice rendering of the notebook to a web browser as you are reading right now. In many places in such a notebook, the output that the code samples produce is printed right below the code itself. Sometimes this can be quite a lot of output and depending on your viewing environment you might have to scroll quite some way to get to the continuation of the discussion.\n",
    "\n",
    "You can save your notebook online (the current one is [here at github](https://github.com/awagner-mainz/notebooks/blob/master/gallery/TextProcessing_Azpilcueta.ipynb)) and there is an online service, nbviewer, able to render any notebook that it can access online. So chances are you are reading this present notebook at the web address [https://nbviewer.jupyter.org/github/awagner-mainz/notebooks/blob/master/gallery/TextProcessing_Azpilcueta.ipynb](https://nbviewer.jupyter.org/github/awagner-mainz/notebooks/blob/master/gallery/TextProcessing_Azpilcueta.ipynb)."
   ]
  },
  {
   "cell_type": "markdown",
   "metadata": {},
   "source": [
    "A final word about the elements of this notebook:\n",
    "\n",
    "<div class=\"alert alertbox alert-success\">At some points I am mentioning things I consider to be important decisions or take-away messages for scholarly readers. E.g. whether or not to insert certain artefacts into the very transcription of your text, what the methodological ramifications of a certain approach or parameter are, what the implications of an example solution are, or what a possible interpretation of a certain result might be. I am highlighting these things in a block like this one here or at least in <font color=\"green\">**green bold font**</font>.</div>"
   ]
  },
  {
   "cell_type": "markdown",
   "metadata": {},
   "source": [
    "<div class=\"alert alertbox alert-danger\">**NOTE:** As I am continually improving the notebook on the side of the source text, wordlists and other parameters, it is sometimes hard to keep the prose description in synch. So while the actual descriptions still apply, the numbers that are mentioned in the prose (as where we have e.g. a \"table with 20 rows and 1.672 columns\") might no longer reflect the latest state of the sources, auxiliary files and parameters and you should take these with a grain of salt. Best double check them by reading the actual code ;-)\n",
    "\n",
    "I apologize for the inconsistency.</div>"
   ]
  },
  {
   "cell_type": "markdown",
   "metadata": {},
   "source": [
    "# Preparations"
   ]
  },
  {
   "cell_type": "markdown",
   "metadata": {},
   "source": [
    "Unlike in the previous case, where we had word files that we could export as plaintext, in this case Manuela has prepared a sample chapter with four editions transcribed *in parallel* in an office spreadsheet. So we first of all make sure that we have good **UTF-8** comma-separated-value files, e.g. by uploading a **csv** export of our office program of choice to [a CSV Linting service](https://csvlint.io/). (As a side remark, in my case, exporting with LibreOffice provided me with options to select UTF-8 encoding and choose the field delimiter and resulted in a valid csv file. MS Excel did neither of those.) Below, we expect the file below at the following position:"
   ]
  },
  {
   "cell_type": "code",
   "execution_count": 3,
   "metadata": {
    "ExecuteTime": {
     "end_time": "2018-02-05T23:21:46.165533Z",
     "start_time": "2018-02-05T23:21:46.156580Z"
    },
    "collapsed": true
   },
   "outputs": [],
   "source": [
    "sourcePath = 'Azpilcueta/cap6_align_-_2018-01.csv'"
   ]
  },
  {
   "cell_type": "markdown",
   "metadata": {},
   "source": [
    "Then, we can go ahead and open the file:"
   ]
  },
  {
   "cell_type": "code",
   "execution_count": 4,
   "metadata": {
    "ExecuteTime": {
     "end_time": "2018-02-05T23:21:46.381127Z",
     "start_time": "2018-02-05T23:21:46.369460Z"
    },
    "collapsed": true
   },
   "outputs": [],
   "source": [
    "import csv\n",
    "\n",
    "sourceFile = open(sourcePath, newline='', encoding='utf-8')\n",
    "sourceTable = csv.reader(sourceFile)"
   ]
  },
  {
   "cell_type": "markdown",
   "metadata": {
    "ExecuteTime": {
     "end_time": "2018-02-05T15:33:14.158534Z",
     "start_time": "2018-02-05T15:33:14.154549Z"
    }
   },
   "source": [
    "And we read each line into new elements of four respective arrays (since we're dealing with one sample chapter, we try to handle it all in memory first and see if we run into problems):"
   ]
  },
  {
   "cell_type": "markdown",
   "metadata": {},
   "source": [
    "*(Note here and in the following that in most cases, when the program is counting, it does so beginning with zero. Which means that if we end up with 20 segments, they are going to be called segment 0, segment 1, ..., segment 19. There is not going to be a segment bearing the number twenty, although we do have twenty segments. The first one has the number zero and the twentieth one has the number nineteen. Even for more experienced coders, this sometimes leads to mistakes, called \"off-by-one errors\".)*"
   ]
  },
  {
   "cell_type": "code",
   "execution_count": 5,
   "metadata": {
    "ExecuteTime": {
     "end_time": "2018-02-05T23:21:46.789886Z",
     "start_time": "2018-02-05T23:21:46.733411Z"
    }
   },
   "outputs": [
    {
     "name": "stdout",
     "output_type": "stream",
     "text": [
      "41 rows read.\n",
      "1552 por\n",
      "¶ Capitolo VI. Das circunstancias.\n",
      "\n",
      "\n",
      "1.     [1] Pera fundamento disto diremos : lho primeiro, que a circumstancia do peccado, segundo a mente de S. Tho P & outros, he hum accidente daquilo, que he peccado. Dissemos (he accidente) porque nenhũa circũstãcia da obra, he a substancia della. Dissemos (da quilo que he peccado) & nã do peccado : porque muytas vezes a obra em si não he peccado, & pola circũ se faz peccado : & como então ella he aquilo, em que consiste ho peccado, não he tãto accidente do peccado, quanto da quilo que he peccado : segundo que ho declaramos em outra parteq (q. in d. c. Consideret n. 3), seguindo a Alex. de Ales r (r in. 4 pt. q. 77 ar.z. co.la.z).\n",
      "2.     ¶ [2] Ho II. Que a circunstancia se parte em sete species, que se conte nem aquelle verso : Quis, quid, ubi, quibus auxiliis, cur, quomodo, quando : Referido por S. Tho.s (in d. q. 7. ar 3) . Quem, Que, Onde, Com que ajudas, Porque, Em que maneira, Quando. O qual verso temos por melhor, que ho de Paudanot (t. in. 4. d. 16. q. 3. art. 1.u), como ho dissemos em outra parteu (u in princi. d. e. Consideret n. 4) : porque nelle se acrecenta Quotiens, quantas vezes : que denota ho numero : o qual não he circunstancia, se não multiplicação de peccado, como aly ho dissemosx (x. in. d. n. 4). [p. 33, 41 pdf] \n"
     ]
    }
   ],
   "source": [
    "    # Initialize a two-dimensional array ...\n",
    "    Editions = [[]]\n",
    "\n",
    "    # ...with four rows\n",
    "    for i in range(0,3):\n",
    "        a = []\n",
    "        Editions.append(a)\n",
    "\n",
    "    # Now populate it from our sourceTable\n",
    "    for row in sourceTable:\n",
    "        for i, field in enumerate(row):\n",
    "            Editions[i].append(field)\n",
    "\n",
    "    print(str(sourceTable.line_num) + \" rows read.\")\n",
    "\n",
    "    # As an example, see the first seven sections of the second edition:\n",
    "    for field in range(0,6):\n",
    "        print(Editions[1][field])"
   ]
  },
  {
   "cell_type": "markdown",
   "metadata": {},
   "source": [
    "  1. [TF/IDF](#tfidf)\n",
    "  \n",
    "  2. [Segment source text](#SegmentSourceText) \n",
    "  3. [Read segments into Variable/List](#ReadSegmentsIntoVariable)\n",
    "  4. [Tokenising](#Tokenising)\n",
    "  5. [Stemming/Lemmatising](#StemmingLemmatising)\n",
    "  6. [Eliminate stopwords](#EliminateStopwords)"
   ]
  },
  {
   "cell_type": "markdown",
   "metadata": {},
   "source": [
    "## TF/IDF <a name=\"tfidf\"></a>"
   ]
  },
  {
   "cell_type": "markdown",
   "metadata": {},
   "source": [
    "In the previous (i.e. Solórzano) analyses, things like tokenization, lemmatization and stop-word lists filtering are explained step by step. Here, we rely on what we have found there and feed it all into functions that are ready-made and available in suitable libraries..."
   ]
  },
  {
   "cell_type": "markdown",
   "metadata": {},
   "source": [
    "First, we build our lemmatization resource and \"function\":"
   ]
  },
  {
   "cell_type": "code",
   "execution_count": 6,
   "metadata": {
    "ExecuteTime": {
     "end_time": "2018-02-05T23:21:47.553135Z",
     "start_time": "2018-02-05T23:21:47.502084Z"
    }
   },
   "outputs": [
    {
     "name": "stdout",
     "output_type": "stream",
     "text": [
      "1706 wordforms known to the system.\n"
     ]
    }
   ],
   "source": [
    "lemma    = {}    # we build a so-called dictionary for the lookups\n",
    "tempdict = []\n",
    "\n",
    "wordfile_path = 'Azpilcueta/wordforms-lat.txt'\n",
    "wordfile = open(wordfile_path, encoding='utf-8')\n",
    "\n",
    "# open the wordfile (defined above) for reading\n",
    "wordfile = open(wordfile_path, encoding='utf-8')\n",
    "\n",
    "for line in wordfile.readlines():\n",
    "    tempdict.append(tuple(line.split('>'))) # we split each line by \">\" and append a tuple to a\n",
    "                                            # temporary list.\n",
    "\n",
    "lemma = {k.strip(): v.strip() for k, v in tempdict} # for every tuple in the list,\n",
    "                                                    # we strip whitespace and make a key-value\n",
    "                                                    # pair, appending it to our \"lemma\" dictionary\n",
    "wordfile.close\n",
    "print(str(len(lemma)) + ' wordforms known to the system.')"
   ]
  },
  {
   "cell_type": "markdown",
   "metadata": {},
   "source": [
    "Again, a quick test: Let's see with which \"lemma\"/basic word the particular wordform \"fidem\" is associated, or, in other words, what *value* our lemma variable returns when we query for the *key* \"fidem\":"
   ]
  },
  {
   "cell_type": "code",
   "execution_count": 101,
   "metadata": {
    "ExecuteTime": {
     "end_time": "2018-02-06T08:11:07.287188Z",
     "start_time": "2018-02-06T08:11:07.278020Z"
    }
   },
   "outputs": [
    {
     "data": {
      "text/plain": [
       "'fides'"
      ]
     },
     "execution_count": 101,
     "metadata": {},
     "output_type": "execute_result"
    }
   ],
   "source": [
    "lemma['fidem']"
   ]
  },
  {
   "cell_type": "markdown",
   "metadata": {},
   "source": [
    "And we are going to need the stopwords list:"
   ]
  },
  {
   "cell_type": "code",
   "execution_count": 8,
   "metadata": {
    "ExecuteTime": {
     "end_time": "2018-02-05T23:21:47.959525Z",
     "start_time": "2018-02-05T23:21:47.934882Z"
    }
   },
   "outputs": [
    {
     "name": "stdout",
     "output_type": "stream",
     "text": [
      "388 stopwords known to the system, e.g.: ['a', 'ab', 'ac', 'ad', 'adhic', 'adhuc', 'ae', 'ait', 'ali', 'alii', 'aliis', 'alio', 'aliqua', 'aliqui', 'aliquid', 'aliquis', 'aliquo', 'am', 'an', 'ante', 'apud', 'ar', 'at', 'atque', 'au', 'aut', 'autem', 'bus', 'c', 'ca', 'cap', 'ceptum', 'co', 'con', 'cons', 'cui', 'cum', 'cur', 'cùm', 'd', 'da', 'de', 'deinde', 'detur', 'di', 'diu', 'do', 'dum', 'e', 'ea', 'eadem', 'ec', 'eccle', 'ego', 'ei', 'eis', 'eius', 'el', 'em', 'en', 'enim', 'eo', 'eos', 'er', 'erat', 'ergo', 'erit', 'es', 'esse', 'essent', 'esset', 'est', 'et', 'etenim', 'eti']\n"
     ]
    }
   ],
   "source": [
    "stopwords_path = 'Azpilcueta/stopwords-lat.txt'\n",
    "stopwords = open(stopwords_path, encoding='utf-8').read().splitlines()\n",
    "\n",
    "print(str(len(stopwords)) + ' stopwords known to the system, e.g.: ' + str(stopwords[95:170]))"
   ]
  },
  {
   "cell_type": "markdown",
   "metadata": {},
   "source": [
    "(In contrast to simpler numbers that have been filtered out by our stopwords filter, I have left numbers representing years like \"1610\" in place.)"
   ]
  },
  {
   "cell_type": "markdown",
   "metadata": {},
   "source": [
    "Next, we should find some very characteristic words for each segment for each edition. (Let's say we are looking for the \"Top 20\".) We should build a vocabulary for each edition individually and only afterwards work towards a common vocabulary of several \"Top n\" sets."
   ]
  },
  {
   "cell_type": "code",
   "execution_count": 129,
   "metadata": {
    "ExecuteTime": {
     "end_time": "2018-02-06T08:51:23.890179Z",
     "start_time": "2018-02-06T08:51:22.904901Z"
    }
   },
   "outputs": [
    {
     "name": "stdout",
     "output_type": "stream",
     "text": [
      "Most significant words in Edition 0, segment 0: \n",
      "[('1549', 0), ('oua', 443)]\n",
      "Most significant words in Edition 0, segment 1: \n",
      "[('capitulo', 86), ('sexto', 600), ('das', 179), ('circunstancias', 105), ('paribus', 455), ('ou', 442), ('oua', 443)]\n",
      "Most significant words in Edition 0, segment 2: \n",
      "\n",
      "Most significant words in Edition 0, segment 3: \n",
      "\n",
      "Most significant words in Edition 0, segment 4: \n",
      "\n",
      "Most significant words in Edition 0, segment 5: \n",
      "\n",
      "Most significant words in Edition 0, segment 6: \n",
      "[('lugar', 365), ('cousa', 168), ('igreja', 323), ('dizer', 221), ('as', 61), ('sagrada', 569), ('sagrado', 570), ('furtum', 296), ('furtou', 295), ('sam', 572), ('quando', 533), ('ē', 671), ('maneyras', 377), ('tambẽ', 631), ('homicidio', 309), ('mudan', 396), ('nastaria', 403), ('necessarias', 406), ('boãventura', 76), ('ouuesse', 449)]\n",
      "Most significant words in Edition 0, segment 7: \n",
      "\n",
      "Most significant words in Edition 0, segment 8: \n",
      "\n",
      "Most significant words in Edition 0, segment 9: \n",
      "\n",
      "Most significant words in Edition 0, segment 10: \n",
      "\n",
      "Most significant words in Edition 0, segment 11: \n",
      "[('tres', 647), ('casada', 89), ('adulterio', 23), ('sacrilegio', 567), ('cometeo', 119), ('he', 305), ('religiosus', 547), ('furtum', 296), ('porque', 500), ('declarar', 181), ('sam', 572), ('com', 113), ('peccado', 468), ('cada', 80), ('dizendo', 220), ('convem', 161), ('hũ', 319), ('prohibiçoes', 516), ('distintos', 217), ('restas', 550)]\n",
      "Most significant words in Edition 0, segment 12: \n",
      "[('furtar', 294), ('fim', 273), ('porque', 500), ('proposito', 518), ('outro', 447), ('he', 305), ('particular', 457), ('or', 437), ('mandamento', 373), ('depende', 192), ('fornique', 286), ('sacrament', 565), ('lesta', 356), ('luxuriar', 367), ('defeso', 187), ('hep', 306), ('mudasse', 397), ('final', 274), ('conf', 128), ('funda', 291)]\n",
      "Most significant words in Edition 0, segment 13: \n",
      "[('mortal', 391), ('semi', 591), ('dizer', 221), ('sam', 572), ('venial', 653), ('mas', 381), ('mortalmente', 392), ('he', 305), ('estas', 249), ('ao', 51), ('necessidade', 409), ('porque', 500), ('peccado', 468), ('mentira', 386), ('provoque', 523), ('apras', 53), ('corpo', 166), ('deos', 191), ('soubesse', 613), ('palavra', 450)]\n",
      "Most significant words in Edition 0, segment 14: \n",
      "[('confessor', 142), ('porque', 500), ('semi', 591), ('alcum', 31), ('outras', 446), ('penitente', 480), ('ou', 442), ('as', 61), ('ao', 51), ('segundo', 584), ('hua', 311), ('pbre', 463), ('socorer', 607), ('escandalize', 241), ('hã', 318), ('quaersma', 528), ('pasassem', 458), ('provocou', 522), ('aliuiam', 43), ('feria', 264)]\n",
      "Most significant words in Edition 0, segment 15: \n",
      "[('poco', 491), ('como', 121), ('muyto', 399), ('mesma', 387), ('causa', 93), ('seja', 586), ('he', 305), ('sam', 572), ('specie', 616), ('peccado', 468), ('differir', 209), ('prova', 520), ('comuun', 123), ('couda', 167), ('contratar', 159), ('procedẽ', 515), ('probavel', 514), ('fazem', 258), ('xvii', 668), ('alhea', 42)]\n",
      "Most significant words in Edition 0, segment 16: \n",
      "[('he', 305), ('semi', 591), ('mais', 371), ('sacerdote', 561), ('casus', 92), ('ihe', 324), ('furtar', 294), ('foy', 289), ('porque', 500), ('papa', 452), ('cen', 96), ('ordenam', 439), ('clerigo', 111), ('bispo', 69), ('bios', 68), ('impoer', 327), ('comũa', 124), ('palude', 451), ('notavelmente', 418), ('restituyçã', 551)]\n",
      "Most significant words in Edition 0, segment 17: \n",
      "[('semi', 591), ('nã', 422), ('porque', 500), ('quando', 533), ('nega', 412), ('silvestr', 602), ('receber', 546), ('agravã', 28), ('sobredita', 605), ('receba', 545), ('collegir', 112), ('duos', 228), ('falar', 255), ('conveniente', 162), ('suade', 621), ('suma', 624), ('antisiodoro', 49), ('graça', 301), ('quer', 540), ('sepone', 595)]\n",
      "Most significant words in Edition 0, segment 18: \n",
      "[('dia', 207), ('festa', 268), ('obra', 423), ('necessarius', 408), ('peccado', 468), ('circunstancia', 104), ('mortal', 391), ('he', 305), ('segundo', 584), ('porque', 500), ('quando', 533), ('fiz', 276), ('sententiarum', 594), ('razoavel', 543), ('parece', 453), ('fex', 269), ('servuil', 599), ('entendido', 234), ('dous', 225), ('quebrou', 538)]\n",
      "Most significant words in Edition 0, segment 19: \n",
      "[('dia', 207), ('oraçam', 438), ('jejuum', 347), ('fizesse', 277), ('confessata', 137), ('deputado', 193), ('acima', 15), ('salvo', 571), ('festa', 268), ('quebrantar', 537), ('supra', 626), ('proposito', 518), ('circunstancia', 104), ('com', 113), ('navarro', 405), ('segundo', 584), ('necessidade', 409), ('quando', 533), ('peccado', 468), ('ou', 442)]\n",
      "Most significant words in Edition 0, segment 20: \n",
      "[('lugar', 365), ('sagrado', 570), ('ou', 442), ('circunstancia', 104), ('necessario', 407), ('immunidade', 326), ('semi', 591), ('he', 305), ('igreja', 323), ('quando', 533), ('peccado', 468), ('cousas', 169), ('as', 61), ('obra', 423), ('estas', 249), ('com', 113), ('navarro', 405), ('mas', 381), ('acolhem', 17), ('come', 114)]\n",
      "Most significant words in Edition 0, segment 21: \n",
      "\n",
      "Most significant words in Edition 0, segment 22: \n",
      "[('he', 305), ('mays', 383), ('mais', 371), ('porque', 500), ('pecca', 467), ('peccado', 468), ('entonces', 237), ('mas', 381), ('stado', 619), ('manifestala', 378), ('convexido', 164), ('mao', 380), ('muda', 394), ('ignorante', 322), ('blasfemia', 71), ('propria', 519), ('menos', 385), ('algũas', 40), ('paribus', 455), ('fornicetur', 284)]\n",
      "Most significant words in Edition 0, segment 23: \n",
      "[('contra', 157), ('consciencia', 148), ('feyta', 270), ('conscientia', 149), ('ley', 358), ('fomente', 278), ('senam', 593), ('erronea', 240), ('nenhũa', 414), ('necessarius', 408), ('fez', 272), ('circunstantia', 107), ('foy', 289), ('peccar', 471), ('supra', 626), ('era', 239), ('entonces', 237), ('obra', 423), ('navarro', 405), ('quando', 533)]\n",
      "Most significant words in Edition 0, segment 24: \n",
      "[('peccado', 468), ('veçes', 661), ('numero', 421), ('muytas', 398), ('circunstantia', 107), ('he', 305), ('tanto', 633), ('porque', 500), ('declare', 182), ('pasta', 462), ('pequey', 483), ('delles', 188), ('demaneyra', 189), ('verifica', 656), ('diçam', 222), ('dez', 206), ('frequentaçam', 290), ('acrecentamento', 19), ('constitue', 152), ('cento', 97)]\n",
      "Most significant words in Edition 0, segment 25: \n",
      "[('memoria', 384), ('numero', 421), ('vezes', 660), ('semi', 591), ('assi', 63), ('cousa', 168), ('mortalmente', 392), ('ham', 304), ('sabe', 558), ('como', 121), ('ao', 51), ('lata', 353), ('cuidou', 173), ('conto', 156), ('conta', 154), ('confesio', 129), ('lançar', 352), ('certo', 99), ('alguũ', 38), ('calasse', 85)]\n",
      "Most significant words in Edition 0, segment 26: \n",
      "[('basta', 66), ('diga', 210), ('perseverou', 489), ('angelo', 46), ('archidiacono', 59), ('podesse', 493), ('vezes', 660), ('assi', 63), ('mas', 381), ('quando', 533), ('publica', 525), ('tantos', 634), ('converdita', 163), ('amancebado', 45), ('tempo', 636), ('anno', 47), ('annos', 48), ('huũ', 317), ('inparius', 335), ('specificar', 617)]\n",
      "Most significant words in Edition 0, segment 27: \n",
      "\n",
      "Most significant words in Edition 0, segment 28: \n",
      "\n",
      "Most significant words in Edition 0, segment 29: \n",
      "\n",
      "Most significant words in Edition 0, segment 30: \n",
      "\n",
      "Most significant words in Edition 0, segment 31: \n",
      "\n",
      "Most significant words in Edition 0, segment 32: \n",
      "[('cayda', 95), ('presença', 511), ('peccado', 468), ('he', 305), ('quando', 533), ('tal', 628), ('mas', 381), ('pecca', 467), ('com', 113), ('casos', 91), ('dos', 224), ('outro', 447), ('comete', 117), ('scandalum', 579), ('tomaran', 645), ('disse', 214), ('ocasiam', 426), ('confessarse', 135), ('occasiã', 429), ('presenza', 510)]\n",
      "Most significant words in Edition 0, segment 33: \n",
      "[('fez', 272), ('avia', 65), ('nã', 422), ('circunstância', 109), ('confessou', 144), ('mas', 381), ('diga', 210), ('basta', 66), ('vaãgloria', 652), ('esmola', 243), ('jurado', 349), ('juramento', 350), ('três', 648), ('maa', 369), ('confesse', 138), ('necessário', 411), ('vez', 659), ('obra', 423), ('semi', 591), ('ou', 442)]\n",
      "Most significant words in Edition 0, segment 34: \n",
      "\n",
      "Most significant words in Edition 0, segment 35: \n",
      "\n",
      "Most significant words in Edition 0, segment 36: \n",
      "\n",
      "Most significant words in Edition 0, segment 37: \n",
      "\n",
      "Most significant words in Edition 0, segment 38: \n",
      "\n",
      "Most significant words in Edition 0, segment 39: \n",
      "\n",
      "Most significant words in Edition 0, segment 40: \n",
      "\n",
      "Most significant words in Edition 1, segment 0: \n",
      "[('1552', 2), ('104', 0)]\n",
      "Most significant words in Edition 1, segment 1: \n",
      "[('capitolo', 127), ('vi', 924), ('circunstancias', 149), ('das', 243), ('peccado', 628), ('peccador', 629)]\n",
      "Most significant words in Edition 1, segment 2: \n",
      "\n",
      "Most significant words in Edition 1, segment 3: \n",
      "\n",
      "Most significant words in Edition 1, segment 4: \n",
      "[('he', 421), ('peccado', 628), ('accidente', 23), ('quilo', 728), ('r', 735), ('segundo', 793), ('z', 948), ('obra', 572), ('dissemos', 289), ('substancia', 842), ('ales', 47), ('então', 331), ('pola', 660), ('alex', 48), ('circũ', 152), ('consiste', 207), ('diremos', 285), ('fundamento', 404), ('aquilo', 83), ('della', 261)]\n",
      "Most significant words in Edition 1, segment 5: \n",
      "[('verso', 921), ('u', 904), ('semi', 802), ('qual', 717), ('quando', 719), ('circunstancia', 148), ('quomodo', 730), ('paudanot', 625), ('referido', 736), ('dissemosx', 292), ('species', 838), ('quotiens', 732), ('ajudas', 44), ('princi', 694), ('auxiliis', 97), ('contus', 217), ('multiplicação', 541), ('temos', 863), ('parteu', 618), ('sete', 814)]\n",
      "Most significant words in Edition 1, segment 6: \n",
      "[('são', 854), ('as', 90), ('soos', 832), ('especiaes', 341), ('aquellas', 80), ('defende', 249), ('obras', 573), ('ora', 585), ('todas', 886), ('sejão', 798), ('quaes', 716), ('especie', 343), ('outra', 593), ('semi', 802), ('x', 938), ('todo', 887), ('segundo', 793), ('z', 948), ('hũa', 433), ('outro', 597)]\n",
      "Most significant words in Edition 1, segment 7: \n",
      "[('semi', 802), ('aa', 15), ('não', 571), ('mortal', 535), ('faz', 365), ('mão', 546), ('terça', 872), ('fex', 382), ('primeyra', 689), ('elas', 322), ('feira', 371), ('esquerda', 346), ('vinha', 927), ('campo', 126), ('direyta', 286), ('segunda', 792), ('acima', 27), ('estas', 350), ('especie', 343), ('hão', 431)]\n",
      "Most significant words in Edition 1, segment 8: \n",
      "[('sagrado', 775), ('sagrada', 774), ('furtou', 409), ('lugar', 502), ('cousa', 228), ('ou', 590), ('furte', 408), ('sela', 799), ('cumpre', 234), ('dovira', 314), ('furtum', 410), ('defende', 249), ('especialmente', 342), ('ser', 809), ('defendido', 252), ('diversum', 297), ('dizendo', 301), ('especie', 343), ('respeyto', 756), ('nenhũa', 560)]\n",
      "Most significant words in Edition 1, segment 9: \n",
      "\n",
      "Most significant words in Edition 1, segment 10: \n",
      "[('confe', 181), ('cecie', 141), ('specialmente', 836), ('eccesiis', 318), ('serem', 810), ('humanaa', 428), ('cometida', 170), ('defendidos', 253), ('proposuisti', 701), ('circũstãcia', 155), ('fornicaçao', 396), ('homicidio', 424), ('consecr', 200), ('mesmo', 525), ('fazen', 367), ('resta', 760), ('sagrado', 775), ('mortaes', 534), ('respeito', 755), ('ley', 494)]\n",
      "Most significant words in Edition 1, segment 11: \n",
      "[('casada', 133), ('religiosus', 741), ('adulterio', 37), ('tres', 897), ('ou', 590), ('parenta', 610), ('respecto', 753), ('iii', 442), ('mortal', 535), ('sacrilegio', 771), ('diversus', 298), ('molher', 530), ('specie', 837), ('he', 421), ('hũ', 432), ('hũa', 433), ('pario', 611), ('porque', 670), ('incesto', 452), ('repugna', 748)]\n",
      "Most significant words in Edition 1, segment 12: \n",
      "[('circunstancia', 148), ('toda', 884), ('iiii', 443), ('contro', 216), ('principal', 696), ('furta', 406), ('veda', 911), ('auto', 94), ('special', 835), ('defendido', 252), ('diversum', 297), ('fim', 387), ('fornicar', 394), ('ferir', 376), ('para', 605), ('deve', 275), ('ley', 494), ('matar', 516), ('outro', 597), ('confessar', 189)]\n",
      "Most significant words in Edition 1, segment 13: \n",
      "[('ella', 323), ('sem', 800), ('he', 421), ('mortal', 535), ('deixaria', 256), ('soubesse', 833), ('dãno', 317), ('prazer', 677), ('doutro', 313), ('nao', 549), ('jocosa', 478), ('dar', 242), ('v', 907), ('mintira', 529), ('mente', 521), ('aquella', 79), ('tal', 856), ('tençao', 869), ('obrigado', 574), ('venial', 913)]\n",
      "Most significant words in Edition 1, segment 14: \n",
      "[('deve', 275), ('ff', 386), ('provocou', 710), ('seguimos', 788), ('b', 102), ('confessor', 193), ('comũ', 177), ('col', 161), ('quando', 719), ('obrigado', 574), ('ella', 323), ('segundo', 793), ('peccado', 628), ('porque', 670), ('não', 571), ('consideret', 206), ('aptissimus', 78), ('res', 750), ('nenhũ', 559), ('tomaria', 890)]\n",
      "Most significant words in Edition 1, segment 15: \n",
      "[('grande', 414), ('todo', 887), ('he', 421), ('ou', 590), ('não', 571), ('quando', 719), ('prin', 692), ('col4', 162), ('acreentamento', 33), ('crara', 230), ('ovvesse', 600), ('agravão', 41), ('commũa', 172), ('allif', 59), ('vii', 925), ('naz', 552), ('consideraçones', 205), ('pequeno', 644), ('apartandonos', 77), ('notavelmente', 566)]\n",
      "Most significant words in Edition 1, segment 16: \n",
      "[('excomunhão', 357), ('seja', 795), ('he', 421), ('ou', 590), ('tus', 899), ('restituoção', 761), ('rex', 762), ('pervenit', 654), ('grãde', 417), ('pequena', 643), ('argumento', 86), ('tenha', 867), ('defent', 254), ('synodaes', 852), ('bispog', 107), ('clericus', 157), ('suas', 840), ('ferida', 374), ('papah', 603), ('papal', 604)]\n",
      "Most significant words in Edition 1, segment 17: \n",
      "[('onde', 580), ('k', 485), ('ainda', 43), ('inconveniente', 455), ('preguntado', 684), ('bem', 104), ('cala', 120), ('autor', 95), ('dalgũ', 239), ('sen', 803), ('81', 14), ('ponendose', 667), ('allegak', 57), ('tractal', 893), ('perigo', 647), ('44', 4), ('friburgo', 403), ('confessorum', 194), ('sylvestrei', 851), ('elle', 325)]\n",
      "Most significant words in Edition 1, segment 18: \n",
      "[('verb', 914), ('festa', 379), ('dies', 280), ('não', 571), ('semi', 802), ('dia', 278), ('ao', 73), ('z', 948), ('obra', 572), ('faz', 365), ('for', 391), ('cas', 131), ('festos', 381), ('outrasp', 595), ('vedada', 912), ('festas', 380), ('caietanoo', 116), ('suma', 845), ('servil', 813), ('suscepisse', 848)]\n",
      "Most significant words in Edition 1, segment 19: \n",
      "[('semi', 802), ('jejuũ', 476), ('vers', 920), ('oração', 586), ('ix', 472), ('provamoss', 705), ('segũdo', 794), ('quebrãtar', 725), ('dia', 278), ('necessariamente', 553), ('pecca', 627), ('ditas', 296), ('proposito', 700), ('não', 571), ('algũa', 52), ('tres', 897), ('nã', 570), ('cousas', 229), ('das', 243), ('pario', 611)]\n",
      "Most significant words in Edition 1, segment 20: \n",
      "[('mortal', 535), ('semi', 802), ('ou', 590), ('peccado', 628), ('outros', 598), ('não', 571), ('faz', 365), ('acolhem', 28), ('sangue', 782), ('avida', 101), ('forçosamente', 399), ('salvo', 776), ('ãtre', 953), ('agrave', 40), ('ecclesiis', 319), ('immunidade', 450), ('nestes', 562), ('conseer', 201), ('copula', 222), ('tirão', 883)]\n",
      "Most significant words in Edition 1, segment 21: \n",
      "[('cometem', 169), ('sagrado', 775), ('nelle', 557), ('ou', 590), ('aquelles', 82), ('precedente', 680), ('cmeter', 160), ('igreja', 440), ('ferião', 377), ('obrigados', 575), ('deste', 274), ('alyt', 64), ('ppoer', 674), ('desejã', 270), ('desejem', 269), ('desejassem', 268), ('perjuro', 649), ('estãdo', 352), ('xi', 939), ('gula', 419)]\n",
      "Most significant words in Edition 1, segment 22: \n",
      "[('mortal', 535), ('mais', 505), ('faz', 365), ('boo', 111), ('comũmente', 178), ('pessoa', 655), ('seria', 811), ('religioso', 740), ('ou', 590), ('necessario', 554), ('y', 946), ('circunstancia', 148), ('seja', 795), ('pecca', 627), ('não', 571), ('semi', 802), ('specie', 837), ('quãdo', 733), ('mas', 515), ('contra', 211)]\n",
      "Most significant words in Edition 1, segment 23: \n",
      "[('consciencia', 199), ('entam', 327), ('b', 102), ('somente', 829), ('contra', 211), ('ed', 320), ('novamente', 567), ('feyta', 383), ('52', 10), ('foy', 401), ('xiii', 941), ('erronea', 335), ('decraramos', 246), ('circunstãcia', 151), ('necessarius', 555), ('seq', 807), ('outras', 594), ('peccar', 631), ('fez', 385), ('ditas', 296)]\n",
      "Most significant words in Edition 1, segment 24: \n",
      "[('imitare', 447), ('peccado', 628), ('muytas', 544), ('qual', 717), ('nã', 570), ('vezes', 923), ('vita', 930), ('acerca', 26), ('reprovar', 746), ('arcediagoe', 84), ('corcunstancia', 224), ('monasteria', 531), ('acrecentamento', 31), ('addição', 34), ('pequey', 645), ('constuve', 209), ('alexandrinog', 49), ('verifica', 917), ('hon', 425), ('reprovouho', 747)]\n",
      "Most significant words in Edition 1, segment 25: \n",
      "[('certo', 146), ('lembra', 493), ('sabe', 767), ('conto', 210), ('ou', 590), ('vezes', 923), ('nenhũa', 560), ('semi', 802), ('cousa', 228), ('numero', 569), ('mais', 505), ('não', 571), ('lançar', 489), ('cuydado', 235), ('verissimel', 919), ('vergnoha', 916), ('confissão', 197), ('valeria', 908), ('calasse', 122), ('aver', 98)]\n",
      "Most significant words in Edition 1, segment 26: \n",
      "[('pera', 646), ('anno', 70), ('rezar', 764), ('perseverou', 653), ('espaço', 340), ('despois', 271), ('como', 173), ('consideret', 206), ('hiho', 422), ('acrecentamos', 32), ('aparelhada', 75), ('parteh', 614), ('annos', 71), ('concluymos', 180), ('peccavit', 634), ('tempo', 864), ('convertida', 220), ('sufficientenente', 844), ('ponderando', 665), ('caietanoh', 114)]\n",
      "Most significant words in Edition 1, segment 27: \n",
      "[('itera', 468), ('semi', 802), ('quando', 719), ('naquillo', 551), ('ora', 585), ('vez', 922), ('peccado', 628), ('qual', 717), ('segundo', 793), ('obra', 572), ('vezes', 923), ('isso', 466), ('multiplicarse', 540), ('cuydando', 236), ('acontece', 29), ('seguimosl', 789), ('mercuriali', 522), ('interrompe', 463), ('algum', 50), ('regu', 738)]\n",
      "Most significant words in Edition 1, segment 28: \n",
      "[('semi', 802), ('sam', 777), ('interpolados', 462), ('acabe', 21), ('casa', 132), ('posto', 672), ('exterior', 360), ('partes', 617), ('antes', 72), ('caminho', 125), ('obra', 572), ('como', 173), ('soo', 830), ('muytas', 544), ('os', 589), ('hum', 426), ('porem', 668), ('peccado', 628), ('mais', 505), ('hũa', 433)]\n",
      "Most significant words in Edition 1, segment 29: \n",
      "[('vez', 922), ('abraços', 18), ('caminho', 125), ('acabar', 20), ('duas', 315), ('hũa', 433), ('semi', 802), ('ella', 323), ('pera', 646), ('nã', 570), ('he', 421), ('as', 90), ('ou', 590), ('outra', 593), ('porque', 670), ('quotidiano', 731), ('preambulo', 678), ('obrigato', 576), ('immediatas', 448), ('primeira', 687)]\n",
      "Most significant words in Edition 1, segment 30: \n",
      "\n",
      "Most significant words in Edition 1, segment 31: \n",
      "[('mil', 527), ('trinta', 898), ('dez', 277), ('z', 948), ('vezes', 923), ('contritione', 215), ('forniquey', 398), ('craras', 231), ('palavra', 601), ('paucas', 624), ('polos', 663), ('nada', 548), ('tã', 901), ('caietanop', 117), ('meu', 526), ('xv', 943), ('propus', 703), ('49', 8), ('penitente', 639), ('cento', 143)]\n",
      "Most significant words in Edition 1, segment 32: \n",
      "[('presença', 686), ('quando', 719), ('pecca', 627), ('mas', 515), ('animadvertere', 68), ('al', 45), ('occasião', 578), ('scandalum', 784), ('port', 671), ('escandalo', 336), ('disse', 288), ('mortalmente', 536), ('pessoa', 655), ('com', 165), ('r', 735), ('peccar', 631), ('fez', 385), ('taes', 855), ('lho', 497), ('peccado', 628)]\n",
      "Most significant words in Edition 1, segment 33: \n",
      "[('confesse', 191), ('ou', 590), ('circunstancia', 148), ('mas', 515), ('auta', 93), ('diga', 281), ('ja', 474), ('não', 571), ('abasta', 16), ('os', 589), ('he', 421), ('esque', 344), ('quatro', 723), ('confessandose', 188), ('sanctos', 781), ('confessados', 185), ('confessado', 184), ('clerigo', 158), ('ceolhe', 145), ('avia', 100)]\n",
      "Most significant words in Edition 1, segment 34: \n",
      "\n",
      "Most significant words in Edition 1, segment 35: \n",
      "\n",
      "Most significant words in Edition 1, segment 36: \n",
      "\n",
      "Most significant words in Edition 1, segment 37: \n",
      "\n",
      "Most significant words in Edition 1, segment 38: \n",
      "\n",
      "Most significant words in Edition 1, segment 39: \n",
      "\n",
      "Most significant words in Edition 1, segment 40: \n",
      "\n",
      "Most significant words in Edition 2, segment 0: \n",
      "[('spa', 985), ('1556', 4)]\n",
      "Most significant words in Edition 2, segment 1: \n",
      "[('capitulo', 179), ('circunstancias', 210), ('del', 308), ('pecado', 746), ('104', 0), ('partec', 739), ('part', 738), ('pario', 737), ('parienta', 736)]\n",
      "Most significant words in Edition 2, segment 2: \n",
      "[('sumario', 992), ('104', 0)]\n",
      "Most significant words in Edition 2, segment 3: \n",
      "[('nu', 680), ('y', 1100), ('la', 580), ('semi', 948), ('confessar', 243), ('pecados', 749), ('pecado', 746), ('circunstancia', 209), ('quando', 847), ('necessidad', 671), ('sagrado', 926), ('lugar', 598), ('del', 308), ('numero', 685), ('como', 229), ('multipliarse', 658), ('mudar', 652), ('confinança', 254), ('quotidianas', 874), ('tornar', 1037)]\n",
      "Most significant words in Edition 2, segment 4: \n",
      "[('accidente', 25), ('peccado', 755), ('aquello', 111), ('che', 201), ('la', 580), ('pecado', 746), ('part', 738), ('consideret', 265), ('y', 1100), ('quanto', 851), ('b', 148), ('segun', 943), ('del', 308), ('circunstancia', 209), ('diximos', 372), ('obra', 689), ('facio', 449), ('consiste', 266), ('alexandro', 52), ('alibi', 59)]\n"
     ]
    },
    {
     "name": "stdout",
     "output_type": "stream",
     "text": [
      "Most significant words in Edition 2, segment 5: \n",
      "[('dict', 352), ('articu', 124), ('numero', 685), ('qual', 844), ('diximos', 372), ('al', 47), ('consideret', 265), ('como', 229), ('quando', 847), ('semi', 948), ('denota', 319), ('auxiliis', 135), ('versillo', 1072), ('versilloe', 1073), ('contienen', 271), ('multiplicacion', 660), ('paludanog', 727), ('referido', 881), ('species', 986), ('quomodo', 872)]\n",
      "Most significant words in Edition 2, segment 6: \n",
      "[('la', 580), ('muda', 651), ('especie', 427), ('y', 1100), ('semi', 948), ('mortal', 644), ('razon', 878), ('son', 984), ('otro', 717), ('sean', 938), ('tambien', 1005), ('omnis', 701), ('concilio', 236), ('aquellas', 110), ('quarta', 855), ('hora', 518), ('quaestione', 843), ('solas', 980), ('segun', 943), ('qual', 844)]\n",
      "Most significant words in Edition 2, segment 7: \n",
      "[('mortal', 644), ('semi', 948), ('haze', 497), ('cometido', 225), ('viña', 1085), ('prado', 795), ('restas', 910), ('derecha', 321), ('mano', 611), ('yzquierda', 1104), ('lunes', 600), ('martes', 617), ('la', 580), ('ellas', 402), ('suso', 997), ('aver', 136), ('han', 494), ('quales', 845), ('primero', 809), ('pues', 838)]\n",
      "Most significant words in Edition 2, segment 8: \n",
      "[('agrava', 43), ('apunto', 107), ('perdon', 764), ('cardenale', 184), ('apologia', 104), ('aliuvia', 71), ('confiança', 252), ('caietan', 168), ('pardon', 731), ('bonaventura', 160), ('perque', 771), ('dicat', 348), ('alcançara', 50), ('confessara', 244), ('segundo', 944), ('antes', 97), ('pecar', 751), ('necessariamente', 667), ('semi', 948), ('tanto', 1010)]\n",
      "Most significant words in Edition 2, segment 9: \n",
      "[('hurto', 524), ('sagrada', 925), ('cosa', 291), ('sagrado', 926), ('lugar', 598), ('era', 419), ('respecto', 904), ('otra', 714), ('hurtef', 523), ('la', 580), ('necessario', 668), ('especialmente', 426), ('veda', 1058), ('conviene', 282), ('diversum', 368), ('tercero', 1018), ('ninguna', 674), ('basta', 149), ('saber', 919), ('vedada', 1059)]\n",
      "Most significant words in Edition 2, segment 10: \n",
      "[('consec', 258), ('proposuisti', 822), ('fornication', 463), ('humanaa', 520), ('eccl', 393), ('distin', 365), ('vedados', 1061), ('resta', 909), ('ecclesiis', 395), ('hecha', 502), ('mesmo', 630), ('especial', 424), ('hazen', 498), ('mortales', 645), ('homicidio', 515), ('ser', 952), ('sagrado', 926), ('lugar', 598), ('pdf', 744), ('ley', 588)]\n",
      "Most significant words in Edition 2, segment 11: \n",
      "[('religiosus', 888), ('casada', 188), ('adulterio', 39), ('tres', 1042), ('enel', 406), ('parienta', 736), ('sacrilegio', 922), ('muger', 656), ('diversus', 369), ('pario', 737), ('y', 1100), ('mortal', 644), ('una', 1048), ('otra', 714), ('leyes', 589), ('uvo', 1054), ('u', 1047), ('incesto', 543), ('repugna', 897), ('tener', 1014)]\n",
      "Most significant words in Edition 2, segment 12: \n",
      "[('v', 1055), ('toda', 1031), ('principal', 814), ('hurta', 521), ('herir', 507), ('acto', 32), ('circunstancia', 209), ('diversum', 368), ('especial', 424), ('veda', 1058), ('deve', 338), ('vedada', 1059), ('fin', 456), ('fornicar', 462), ('matar', 619), ('ley', 588), ('dela', 309), ('para', 730), ('otro', 717), ('otra', 714)]\n",
      "Most significant words in Edition 2, segment 13: \n",
      "[('ella', 401), ('mortal', 644), ('dar', 298), ('daño', 300), ('quella', 861), ('plazer', 781), ('dexaria', 342), ('supiera', 994), ('miente', 635), ('vi', 1076), ('iocosa', 563), ('nadie', 665), ('mentira', 626), ('intencion', 552), ('puesto', 839), ('obligado', 687), ('era', 419), ('y', 1100), ('quien', 866), ('venial', 1063)]\n",
      "Most significant words in Edition 2, segment 14: \n",
      "[('la', 580), ('obligado', 687), ('provoco', 832), ('y', 1100), ('seguimos', 941), ('callar', 171), ('alivia', 72), ('semi', 948), ('ff', 453), ('fin', 456), ('princ', 812), ('porque', 793), ('confessar', 243), ('consideret', 265), ('quando', 847), ('mas', 618), ('incestu', 544), ('tentatione', 1017), ('imperatores', 541), ('pecadob', 747)]\n",
      "Most significant words in Edition 2, segment 15: \n",
      "[('haga', 492), ('augmenta', 130), ('grande', 481), ('commun', 228), ('y', 1100), ('pecado', 746), ('semi', 948), ('corol', 287), ('cierta', 203), ('trident', 1043), ('ciertta', 205), ('pequeño', 763), ('cima', 206), ('alibih', 64), ('clara', 212), ('restitucion', 911), ('agravan', 44), ('argumento', 119), ('solidas', 981), ('marsilio', 616)]\n",
      "Most significant words in Edition 2, segment 16: \n",
      "[('descomunion', 324), ('annexa', 95), ('papalb', 729), ('papal', 728), ('setentia', 960), ('14y', 3), ('herida', 506), ('text', 1022), ('pervenit', 776), ('singu', 973), ('exco', 440), ('ligera', 593), ('obispala', 686), ('suadente', 987), ('tenga', 1015), ('la', 580), ('clerigo', 216), ('grande', 481), ('enla', 410), ('queo', 862)]\n",
      "Most significant words in Edition 2, segment 17: \n",
      "[('donde', 387), ('niaun', 673), ('allegad', 74), ('friburgo', 469), ('tractae', 1039), ('confessorum', 250), ('autor', 134), ('contessio', 270), ('inconveniente', 546), ('81', 16), ('silvesc', 971), ('peligro', 757), ('15y', 5), ('ioan', 562), ('bien', 155), ('dize', 376), ('algun', 54), ('espiritual', 430), ('pregunta', 802), ('callar', 171)]\n",
      "Most significant words in Edition 2, segment 18: \n",
      "[('dies', 355), ('fiesta', 454), ('art', 122), ('verb', 1065), ('semi', 948), ('otros', 719), ('dia', 347), ('al', 47), ('quando', 847), ('y', 1100), ('haze', 497), ('contrarios', 278), ('verdada', 1066), ('resoluto', 902), ('quodl', 871), ('quosque', 873), ('confirmamos', 255), ('convenisse', 280), ('cincunstantia', 207), ('usque', 1052)]\n",
      "Most significant words in Edition 2, segment 19: \n",
      "[('x', 1091), ('fino', 459), ('alibim', 68), ('delo', 317), ('quebrantar', 859), ('ver', 1064), ('oracion', 706), ('ayuno', 142), ('delas', 311), ('proposito', 820), ('necessariamente', 667), ('semi', 948), ('peca', 745), ('alguna', 55), ('dia', 347), ('dichas', 350), ('provamos', 828), ('ello', 403), ('segun', 943), ('nu', 680)]\n",
      "Most significant words in Edition 2, segment 20: \n",
      "[('mortal', 644), ('suyo', 998), ('ella', 401), ('semi', 948), ('pecado', 746), ('haze', 497), ('accidentalmente', 24), ('faca', 448), ('marido', 615), ('acogen', 27), ('immunidad', 540), ('humana', 519), ('arg', 118), ('ecclesi', 394), ('contraria', 276), ('sanctidad', 927), ('simiente', 972), ('agrave', 45), ('lugares', 599), ('avida', 138)]\n",
      "Most significant words in Edition 2, segment 21: \n",
      "[('sagrado', 926), ('dessean', 330), ('estuviiessen', 437), ('sigue', 968), ('sobervia', 977), ('dessan', 329), ('deste', 334), ('estando', 433), ('xii', 1093), ('cometer', 224), ('sesseen', 958), ('cometen', 223), ('meten', 632), ('gula', 488), ('yglesia', 1102), ('perjjuro', 765), ('precedente', 801), ('la', 580), ('herir', 507), ('sacrilegio', 922)]\n",
      "Most significant words in Edition 2, segment 22: \n",
      "[('mas', 618), ('mortal', 644), ('comunmente', 231), ('y', 1100), ('haze', 497), ('bueno', 163), ('religioso', 886), ('quando', 847), ('la', 580), ('contra', 275), ('peca', 745), ('porque', 793), ('circunstancia', 209), ('aunque', 132), ('especie', 427), ('como', 229), ('una', 1048), ('semi', 948), ('otro', 717), ('otra', 714)]\n",
      "Most significant words in Edition 2, segment 23: \n",
      "[('consciencia', 257), ('entonces', 416), ('contra', 275), ('nuevemente', 682), ('erronea', 420), ('soamente', 976), ('xiiii', 1095), ('precar', 799), ('la', 580), ('declaramos', 303), ('hecha', 502), ('allih', 79), ('necessarius', 670), ('otras', 715), ('delas', 311), ('ninguna', 674), ('supra', 995), ('solamente', 979), ('hizo', 512), ('era', 419)]\n",
      "Most significant words in Edition 2, segment 24: \n",
      "[('imitare', 537), ('pecado', 746), ('verb', 1065), ('muchas', 648), ('consideret', 265), ('vezes', 1075), ('alexandrinus', 51), ('acerca', 26), ('arcidianol', 117), ('alibii', 65), ('honesta', 517), ('cardenaln', 185), ('addicion', 36), ('diction', 354), ('verifica', 1068), ('cientok', 202), ('constituye', 268), ('saepe', 924), ('sign', 966), ('cler', 215)]\n",
      "Most significant words in Edition 2, segment 25: \n",
      "[('cierto', 204), ('numero', 685), ('sabe', 918), ('nada', 664), ('vezes', 1075), ('y', 1100), ('aun', 131), ('mas', 618), ('acordarse', 30), ('dexa', 341), ('algo', 53), ('acuerda', 34), ('callasse', 172), ('mes', 628), ('lata', 583), ('exprimir', 443), ('valdria', 1057), ('pecador', 748), ('semana', 946), ('verguença', 1067)]\n",
      "Most significant words in Edition 2, segment 26: \n",
      "[('aparejada', 100), ('año', 146), ('y', 1100), ('estado', 432), ('para', 730), ('despues', 327), ('como', 229), ('bastava', 152), ('casados', 189), ('cardenala', 181), ('estuvo', 438), ('años', 147), ('rezar', 914), ('añadiendo', 144), ('singular', 974), ('sueltos', 990), ('aquien', 113), ('bastaria', 151), ('pecavit', 754), ('dizimos', 380)]\n",
      "Most significant words in Edition 2, segment 27: \n",
      "[('semi', 948), ('consuman', 269), ('qual', 844), ('exterior', 446), ('muy', 662), ('princi', 813), ('segun', 943), ('ello', 403), ('pecados', 749), ('nu', 680), ('obra', 689), ('mas', 618), ('reg', 882), ('andc', 90), ('alma', 82), ('heregia', 505), ('mercurial', 627), ('ponderamos', 789), ('allie', 77), ('penu', 761)]\n",
      "Most significant words in Edition 2, segment 28: \n",
      "[('y', 1100), ('son', 984), ('aun', 131), ('muchas', 648), ('considerandos', 264), ('enterrompidos', 414), ('inferimos', 551), ('partes', 740), ('semi', 948), ('hazen', 498), ('otras', 715), ('solo', 982), ('la', 580), ('mas', 618), ('diversus', 369), ('como', 229), ('pecado', 746), ('voluntad', 1086), ('pero', 769), ('cosas', 292)]\n",
      "Most significant words in Edition 2, segment 29: \n",
      "[('y', 1100), ('camino', 175), ('dos', 389), ('son', 984), ('para', 730), ('acabar', 22), ('semi', 948), ('muy', 662), ('quien', 866), ('platicas', 780), ('besos', 154), ('ordena', 708), ('ordenan', 709), ('quotidiano', 875), ('razón', 879), ('tenido', 1016), ('la', 580), ('aun', 131), ('pecados', 749), ('ovo', 722)]\n",
      "Most significant words in Edition 2, segment 30: \n",
      "[('exterior', 446), ('y', 1100), ('obra', 689), ('mala', 602), ('meter', 633), ('aquella', 109), ('voluntad', 1086), ('para', 730), ('muy', 662), ('entonces', 416), ('interrompe', 558), ('alcançar', 49), ('señor', 962), ('ello', 403), ('dellos', 316), ('mucho', 649), ('quantos', 852), ('tantos', 1011), ('mal', 601), ('mas', 618)]\n",
      "Most significant words in Edition 2, segment 31: \n",
      "[('mil', 637), ('vezes', 1075), ('hize', 509), ('tan', 1008), ('mi', 634), ('perpuse', 770), ('contri', 279), ('perseverasse', 773), ('pocas', 782), ('galta', 477), ('claras', 213), ('talc', 1003), ('fornique', 465), ('aconseje', 28), ('xvi', 1097), ('diziendo', 379), ('cardenalb', 182), ('palabras', 726), ('osa', 713), ('110', 1)]\n",
      "Most significant words in Edition 2, segment 32: \n",
      "[('quando', 847), ('escandalo', 421), ('mortalmente', 646), ('peca', 745), ('port', 794), ('animadvertere', 93), ('presencia', 805), ('al', 47), ('occasion', 692), ('persona', 775), ('intencion', 552), ('la', 580), ('hizo', 512), ('tales', 1004), ('saber', 919), ('pecado', 746), ('y', 1100), ('pecar', 751), ('quaest', 842), ('verb', 1065)]\n",
      "Most significant words in Edition 2, segment 33: \n",
      "[('avia', 137), ('mas', 618), ('diga', 357), ('jurado', 574), ('vez', 1074), ('basta', 149), ('y', 1100), ('circunstancia', 209), ('otra', 714), ('unas', 1050), ('quatro', 858), ('sanctos', 928), ('quebranto', 860), ('alibil', 67), ('hirio', 508), ('confiesse', 253), ('confessus', 251), ('hecho', 503), ('olvido', 699), ('conessar', 238)]\n",
      "Most significant words in Edition 2, segment 34: \n",
      "\n",
      "Most significant words in Edition 2, segment 35: \n",
      "\n",
      "Most significant words in Edition 2, segment 36: \n",
      "\n",
      "Most significant words in Edition 2, segment 37: \n",
      "\n",
      "Most significant words in Edition 2, segment 38: \n",
      "\n",
      "Most significant words in Edition 2, segment 39: \n",
      "\n",
      "Most significant words in Edition 2, segment 40: \n",
      "\n",
      "Most significant words in Edition 3, segment 0: \n",
      "[('lat', 735), ('1573', 12)]\n",
      "Most significant words in Edition 3, segment 1: \n",
      "[('caput', 188), ('143', 6), ('65v', 24), ('vi', 1448), ('circunstantiis', 210), ('pdf', 962), ('peccati', 969), ('pessimum', 1014), ('perfectio', 992), ('perfecta', 991)]\n",
      "Most significant words in Edition 3, segment 2: \n",
      "[('summarium', 1341)]\n",
      "Most significant words in Edition 3, segment 3: \n",
      "[('nu', 888), ('confitenda', 275), ('circunstantia', 205), ('quando', 1137), ('sacri', 1224), ('locus', 759), ('necessario', 863), ('peccati', 969), ('mutans', 851), ('ieiunii', 630), ('conscientiae', 293), ('mendacii', 799), ('regulariter', 1181), ('continuationem', 323), ('contrariae', 327), ('iocosi', 700), ('mutationem', 858), ('numeri', 891), ('homicidii', 612), ('1circunstantia', 16)]\n",
      "Most significant words in Edition 3, segment 4: \n",
      "[('accidens', 46), ('res', 1201), ('peccatum', 972), ('diximus', 434), ('peccati', 969), ('alium', 105), ('ibidem', 627), ('dist', 419), ('circunstantiam', 207), ('consideret', 307), ('substantia', 1331), ('77', 38), ('praesentis', 1072), ('sequentes', 1267), ('ipsamet', 704), ('quoddam', 1154), ('adiunctam', 64), ('interpretum', 685), ('elucidavimus', 467), ('alex', 91)]\n",
      "Most significant words in Edition 3, segment 5: \n",
      "[('auxiliis', 165), ('palud', 943), ('dividitue', 429), ('continentur', 321), ('quomodo', 1157), ('numeros', 893), ('relato', 1183), ('ponitur', 1033), ('multiplicatio', 844), ('versiculo', 1447), ('placeo', 1017), ('denotat', 378), ('tradidimus', 1389), ('septem', 1265), ('maga', 766), ('potis', 1041), ('circunstantia', 205), ('princip', 1079), ('uti', 1419), ('quoties', 1163)]\n",
      "Most significant words in Edition 3, segment 6: \n",
      "[('speciem', 1317), ('mutat', 857), ('illae', 637), ('malum', 780), ('concilium', 253), ('mortale', 832), ('ratio', 1167), ('peccati', 969), ('intelligendum', 673), ('solae', 1294), ('venialis', 1434), ('altero', 115), ('prohibens', 1094), ('mortiferum', 836), ('aliud', 104), ('circunstantiae', 206), ('opera', 925), ('omnes', 921), ('facio', 524), ('mortalia', 833)]\n",
      "Most significant words in Edition 3, segment 7: \n",
      "[('corollarium', 343), ('vinea', 1455), ('manus', 790), ('trium', 1398), ('5si', 22), ('hos', 620), ('praedictorum', 1058), ('commissum', 234), ('tertia', 1372), ('feria', 531), ('dextra', 387), ('prato', 1073), ('siquidem', 1291), ('sinistra', 1290), ('confitendas', 277), ('lethale', 744), ('illas', 638), ('circunstantias', 209), ('nullus', 890), ('speciei', 1315)]\n",
      "Most significant words in Edition 3, segment 8: \n",
      "[('minuit', 819), ('aggravans', 84), ('veniam', 1435), ('bonavent', 174), ('obtinebit', 905), ('insinuavit', 666), ('apolog', 135), ('peccans', 965), ('adeo', 60), ('fiduciam', 540), ('potis', 1041), ('sicuti', 1277), ('infertur', 662), ('necessitas', 866), ('postea', 1036), ('confessio', 267), ('secundo', 1255), ('caiet', 182), ('imo', 648), ('teneo', 1368)]\n",
      "Most significant words in Edition 3, segment 9: \n",
      "[('sacro', 1228), ('loco', 758), ('sacrum', 1229), ('respectus', 1207), ('atero', 152), ('specialiter', 1313), ('particualari', 952), ('futurum', 585), ('7tertio', 39), ('praecipit', 1051), ('surreptam', 1347), ('furripiatur', 581), ('prohibet', 1096), ('distincta', 421), ('furtum', 584), ('satisfacit', 1245), ('fecisse', 527), ('sacram', 1223), ('oportet', 931), ('furatus', 580)]\n",
      "Most significant words in Edition 3, segment 10: \n",
      "[('consec', 296), ('fornicatione', 561), ('homicidio', 613), ('humana', 622), ('specialis', 1312), ('idipsum', 629), ('perpetratis', 1001), ('altar', 111), ('sacro', 1228), ('eccles', 454), ('ecclesiis', 456), ('proposuisti', 1104), ('fiunt', 550), ('lego', 743), ('mortalia', 833), ('prohibeo', 1095), ('loco', 758), ('speciei', 1315), ('respectus', 1207), ('alius', 106)]\n",
      "Most significant words in Edition 3, segment 11: \n",
      "[('coniugata', 288), ('religiosus', 1187), ('sacrilegium', 1227), ('res', 1201), ('adulterium', 75), ('semi', 1260), ('tres', 1392), ('queo', 1150), ('adulteruim', 76), ('colligas', 229), ('cognata', 223), ('furari', 577), ('sola', 1293), ('interiur', 683), ('affirmative', 83), ('incaestus', 655), ('altera', 113), ('aliena', 97), ('trifariam', 1396), ('triplici', 1397)]\n",
      "Most significant words in Edition 3, segment 12: \n",
      "[('10quinto', 1), ('percutiendum', 990), ('explicari', 499), ('principalis', 1080), ('furtatis', 583), ('quaecunque', 1126), ('finis', 547), ('legem', 740), ('occidendum', 908), ('specialem', 1309), ('prohibita', 1097), ('diversam', 424), ('fornicandum', 556), ('circunstantia', 205), ('alter', 112), ('aliam', 93), ('ver', 1436), ('prohibeo', 1095), ('actus', 52), ('debeo', 354)]\n",
      "Most significant words in Edition 3, segment 13: \n",
      "[('sine', 1284), ('mortale', 832), ('mendacium', 800), ('intelligeret', 674), ('praebeat', 1047), ('nihilominus', 873), ('iocosum', 701), ('detrimento', 385), ('entione', 468), ('mentiretur', 805), ('voluptatem', 1477), ('11sexto', 3), ('mentitur', 806), ('efficio', 461), ('veniale', 1431), ('tantum', 1359), ('teneo', 1368), ('tale', 1352), ('alius', 106), ('circunstantiam', 207)]\n",
      "Most significant words in Edition 3, segment 14: \n",
      "[('teneo', 1368), ('circunstantias', 209), ('extenuant', 511), ('confessarius', 265), ('semi', 1260), ('illas', 638), ('col', 228), ('ff', 538), ('debeo', 354), ('peccatum', 972), ('consideret', 307), ('quando', 1137), ('occultatione', 910), ('quadragesima', 1124), ('carnium', 191), ('lafo', 731), ('singulare', 1285), ('significavit', 1281), ('sibus', 1276), ('accuso', 49)]\n",
      "Most significant words in Edition 3, segment 15: \n",
      "[('alea', 90), ('video', 1453), ('communis', 245), ('virgo', 1463), ('opinio', 928), ('can', 184), ('fuimus', 571), ('sess', 1275), ('confitendas', 277), ('facio', 524), ('quamvis', 1135), ('speciem', 1317), ('confiteri', 284), ('circunstantias', 209), ('peccatum', 972), ('circunstantia', 205), ('actum', 51), ('mutante', 853), ('marsilius', 791), ('velle', 1429)]\n",
      "Most significant words in Edition 3, segment 16: \n",
      "[('papalis', 945), ('annexam', 125), ('episcopalis', 474), ('levis', 748), ('singularis', 1287), ('percussio', 987), ('suadente', 1326), ('text', 1377), ('procedat', 1091), ('restringi', 1218), ('quemadmodum', 1148), ('excommunicatio', 487), ('pervenit', 1013), ('excom', 486), ('clericus', 220), ('gravis', 593), ('sent', 1262), ('secundo', 1255), ('efficit', 462), ('circunstantia', 205)]\n",
      "Most significant words in Edition 3, segment 17: \n",
      "[('periculo', 996), ('citato', 211), ('15tertio', 13), ('incommodi', 658), ('iohannes', 702), ('fributgo', 567), ('tractat', 1388), ('confessorum', 270), ('recte', 1174), ('limitatur', 755), ('author', 163), ('81', 40), ('sumae', 1338), ('asservit', 151), ('alicuus', 96), ('sylvest', 1349), ('interrogat', 687), ('spiritualis', 1320), ('materia', 793), ('confessarius', 265)]\n",
      "Most significant words in Edition 3, segment 18: \n",
      "[('verb', 1438), ('prohibitum', 1098), ('casus', 192), ('lethale', 744), ('dies', 400), ('opinio', 928), ('opus', 934), ('sine', 1284), ('dist', 419), ('quando', 1137), ('facio', 524), ('dominica', 440), ('fin', 542), ('festum', 537), ('resolutumque', 1204), ('admittirur', 66), ('festos', 536), ('festis', 535), ('dominicani', 441), ('quolib', 1156)]\n",
      "Most significant words in Edition 3, segment 19: \n",
      "[('tale', 1352), ('consecrati', 297), ('perpetretur', 1002), ('augere', 157), ('ieiunio', 631), ('orationi', 935), ('probabimus', 1087), ('fonfessio', 553), ('requiro', 1200), ('69r', 31), ('17decimo', 15), ('aliquantulum', 103), ('novo', 886), ('violandi', 1456), ('necessitas', 866), ('nu', 888), ('diei', 399), ('dies', 400), ('video', 1453), ('proposito', 1102)]\n",
      "Most significant words in Edition 3, segment 20: \n",
      "[('consec', 296), ('mortale', 832), ('locus', 759), ('causa', 193), ('propter', 1108), ('peccatum', 972), ('quiquidem', 1152), ('feminis', 529), ('confugiunt', 286), ('uxorem', 1421), ('sanguis', 1239), ('sanctitati', 1237), ('contrariaretur', 328), ('undecimo', 1406), ('reddat', 1175), ('sacra', 1222), ('effusio', 464), ('humanis', 623), ('alijs', 98), ('eod', 470)]\n",
      "Most significant words in Edition 3, segment 21: \n",
      "[('extra', 519), ('eodem', 471), ('locus', 759), ('circunstantiam', 207), ('queo', 1150), ('desiderium', 382), ('periurij', 997), ('sacrilegij', 1226), ('existo', 495), ('existerent', 494), ('duodecimo', 450), ('gulae', 596), ('admittunt', 69), ('sanctum', 1238), ('tenentur', 1367), ('conciperent', 254), ('committere', 237), ('superbiae', 1344), ('committunt', 241), ('percupiant', 984)]\n",
      "Most significant words in Edition 3, segment 22: \n",
      "[('religiosus', 1187), ('plus', 1021), ('mortale', 832), ('contra', 326), ('bonus', 179), ('alius', 106), ('communiter', 246), ('personae', 1010), ('facio', 524), ('mortalis', 834), ('speciei', 1315), ('circunstantia', 205), ('dist', 419), ('quando', 1137), ('semi', 1260), ('augeat', 155), ('ignorantiam', 632), ('ignoro', 633), ('melior', 797), ('subditur', 1329)]\n",
      "Most significant words in Edition 3, segment 23: \n",
      "[('conscientiam', 294), ('tunc', 1399), ('solum', 1300), ('alea', 90), ('manifestus', 786), ('effectus', 457), ('efficere', 459), ('decimoquarto', 359), ('circumstantia', 204), ('nove', 883), ('erroneam', 479), ('demum', 375), ('declaravimus', 366), ('aliam', 93), ('praedictis', 1057), ('necessarius', 864), ('lego', 743), ('nullus', 890), ('supra', 1345), ('tantum', 1359)]\n",
      "Most significant words in Edition 3, segment 24: \n",
      "[('saepe', 1230), ('imitare', 644), ('verb', 1438), ('dicto', 397), ('consideret', 307), ('peccati', 969), ('centenario', 195), ('princ', 1078), ('quatuor', 1147), ('additio', 58), ('monasteria', 827), ('affirmativa', 81), ('constituens', 311), ('alexandrinus', 92), ('reprobare', 1196), ('reprobavit', 1197), ('noluierit', 876), ('verificatur', 1443), ('archidiacon', 143), ('novuum', 887)]\n",
      "Most significant words in Edition 3, segment 25: \n",
      "[('numerum', 894), ('secundum', 1256), ('facio', 524), ('secum', 1254), ('minusve', 821), ('peccaret', 967), ('commisi', 233), ('ponere', 1032), ('peccatorem', 971), ('meminit', 798), ('mense', 801), ('valet', 1424), ('noverit', 884), ('novit', 885), ('praecogitarat', 1053), ('admiserit', 65), ('recordetur', 1173), ('subticeret', 1333), ('potuisset', 1043), ('hebdomada', 607)]\n",
      "Most significant words in Edition 3, segment 26: \n",
      "[('satis', 1241), ('divinum', 431), ('laicis', 732), ('conclusimus', 255), ('defleat', 371), ('conversionem', 333), ('statu', 1321), ('praedictam', 1055), ('meretrix', 810), ('praeditis', 1061), ('canonicas', 185), ('omisit', 919), ('solutis', 1302), ('spatio', 1307), ('omisi', 918), ('officium', 915), ('integro', 671), ('virginitate', 1462), ('decennium', 356), ('ponderantes', 1030)]\n",
      "Most significant words in Edition 3, segment 27: \n",
      "[('reg', 1178), ('opere', 926), ('voluntas', 1473), ('peccatum', 972), ('solet', 1298), ('mediatur', 796), ('odium', 913), ('haeresis', 601), ('evenire', 484), ('exterior', 514), ('perficiatur', 994), ('conficit', 272), ('responsi', 1212), ('respons', 1211), ('andre', 120), ('itinere', 715), ('augetur', 160), ('renovatur', 1194), ('sequimur', 1271), ('ponderants', 1031)]\n",
      "Most significant words in Edition 3, segment 28: \n",
      "[('actus', 52), ('partes', 951), ('considerati', 305), ('tanquam', 1357), ('etiamsi', 483), ('domus', 446), ('efficiunt', 463), ('ample', 118), ('voluntas', 1473), ('via', 1449), ('peccatum', 972), ('queo', 1150), ('tantum', 1359), ('ff', 538), ('unius', 1410), ('ili', 636), ('variae', 1425), ('multae', 841), ('variis', 1427), ('itineris', 716)]\n",
      "Most significant words in Edition 3, segment 29: \n",
      "[('via', 1449), ('quot', 1160), ('peccatum', 972), ('colloquia', 230), ('actus', 52), ('queo', 1150), ('fines', 544), ('diriguntur', 414), ('consummare', 317), ('mali', 778), ('unus', 1415), ('oscula', 941), ('bios', 169), ('perpetrandum', 1000), ('alter', 112), ('tot', 1383), ('semi', 1260), ('huiusmodi', 621), ('teneo', 1368), ('poenitendo', 1025)]\n",
      "Most significant words in Edition 3, segment 30: \n",
      "[('opera', 925), ('malam', 776), ('mulierem', 839), ('voluntatem', 1474), ('exteriore', 515), ('interrogavit', 689), ('iterum', 714), ('quot', 1160), ('tempus', 1362), ('aliud', 104), ('alea', 90), ('finem', 543), ('peccatum', 972), ('opus', 934), ('quemque', 1149), ('decimus', 362), ('quarto', 1143), ('quanto', 1139), ('quandiu', 1136), ('zurara', 1481)]\n",
      "Most significant words in Edition 3, segment 31: \n",
      "[('millies', 815), ('verbum', 1441), ('peccatum', 972), ('facio', 524), ('statui', 1322), ('consului', 314), ('confessioni', 269), ('alicui', 95), ('iuramentum', 722), ('paucis', 960), ('contrituione', 330), ('peieravi', 979), ('29decimosexto', 18), ('deest', 369), ('meum', 811), ('perseveraret', 1007), ('blasphemavi', 172), ('expresserit', 505), ('integritatem', 670), ('pot', 1040)]\n",
      "Most significant words in Edition 3, segment 32: \n",
      "[('casus', 192), ('scandalum', 1247), ('mortifere', 835), ('eiusmodi', 466), ('quando', 1137), ('pecco', 976), ('provodandi', 1113), ('animadvertere', 123), ('personam', 1011), ('cora', 338), ('scandali', 1246), ('animo', 124), ('summa', 1340), ('locus', 759), ('supra', 1345), ('verb', 1438), ('speciem', 1317), ('teneo', 1368), ('dist', 419), ('secundum', 1256)]\n",
      "Most significant words in Edition 3, segment 33: \n",
      "[('semi', 1260), ('iuraverat', 723), ('confessus', 271), ('antea', 128), ('confitendum', 279), ('fecisse', 527), ('iterum', 714), ('clericus', 220), ('satis', 1241), ('confiteri', 284), ('circunstantiam', 207), ('commissurum', 235), ('confiteor', 282), ('blasphemavit', 173), ('blasphematurum', 171), ('semel', 1259), ('104', 0), ('percussit', 989), ('transgressus', 1391), ('facturum', 525)]\n",
      "Most significant words in Edition 3, segment 34: \n",
      "[('opere', 926), ('peccatum', 972), ('cordis', 340), ('confiteri', 284), ('operis', 927), ('peccati', 969), ('sequeretur', 1270), ('corde', 339), ('omnis', 922), ('sine', 1284), ('approbat', 140), ('respondetur', 1210), ('exprimendo', 507), ('respondeo', 1209), ('venialia', 1433), ('illatio', 639), ('decim', 358), ('dubium', 448), ('praeludio', 1067), ('consequentiae', 301)]\n",
      "Most significant words in Edition 3, segment 35: \n",
      "\n",
      "Most significant words in Edition 3, segment 36: \n",
      "[('errat', 478), ('pecco', 976), ('contra', 326), ('praedico', 1054), ('104', 0)]\n",
      "Most significant words in Edition 3, segment 37: \n",
      "[('confitentum', 281), ('credit', 347), ('nullus', 890), ('necessario', 863), ('circunstantiam', 207), ('peccati', 969), ('nu', 888), ('queo', 1150), ('104', 0), ('perfectio', 992), ('perfecta', 991)]\n",
      "Most significant words in Edition 3, segment 38: \n",
      "[('iterationem', 712), ('augeri', 158), ('credit', 347), ('numerum', 894), ('peccator', 970), ('peccati', 969), ('nu', 888), ('queo', 1150), ('perfecta', 991), ('percutiendum', 990), ('percussit', 989), ('percussionem', 988), ('percussio', 987)]\n",
      "Most significant words in Edition 3, segment 39: \n",
      "[('iterationum', 713), ('sequenti', 1268), ('iii', 634), ('pecati', 963), ('confitetur', 285), ('verisimilem', 1445), ('ver', 1436), ('numerum', 894), ('nu', 888), ('queo', 1150), ('percussit', 989), ('percussionem', 988), ('percussio', 987)]\n",
      "Most significant words in Edition 3, segment 40: \n",
      "[('consule', 313), ('ij', 635), ('censendi', 194), ('praeludium', 1069), ('haereticus', 602), ('quando', 1137), ('nu', 888), ('perfecta', 991), ('percutiendum', 990), ('percussit', 989)]\n"
     ]
    },
    {
     "data": {
      "text/plain": [
       "[[('1549', 0), ('oua', 443)],\n",
       " [('capitulo', 86),\n",
       "  ('sexto', 600),\n",
       "  ('das', 179),\n",
       "  ('circunstancias', 105),\n",
       "  ('paribus', 455),\n",
       "  ('ou', 442),\n",
       "  ('oua', 443)],\n",
       " '',\n",
       " '',\n",
       " '',\n",
       " '',\n",
       " [('lugar', 365),\n",
       "  ('cousa', 168),\n",
       "  ('igreja', 323),\n",
       "  ('dizer', 221),\n",
       "  ('as', 61),\n",
       "  ('sagrada', 569),\n",
       "  ('sagrado', 570),\n",
       "  ('furtum', 296),\n",
       "  ('furtou', 295),\n",
       "  ('sam', 572),\n",
       "  ('quando', 533),\n",
       "  ('ē', 671),\n",
       "  ('maneyras', 377),\n",
       "  ('tambẽ', 631),\n",
       "  ('homicidio', 309),\n",
       "  ('mudan', 396),\n",
       "  ('nastaria', 403),\n",
       "  ('necessarias', 406),\n",
       "  ('boãventura', 76),\n",
       "  ('ouuesse', 449)],\n",
       " '',\n",
       " '',\n",
       " '',\n",
       " '',\n",
       " [('tres', 647),\n",
       "  ('casada', 89),\n",
       "  ('adulterio', 23),\n",
       "  ('sacrilegio', 567),\n",
       "  ('cometeo', 119),\n",
       "  ('he', 305),\n",
       "  ('religiosus', 547),\n",
       "  ('furtum', 296),\n",
       "  ('porque', 500),\n",
       "  ('declarar', 181),\n",
       "  ('sam', 572),\n",
       "  ('com', 113),\n",
       "  ('peccado', 468),\n",
       "  ('cada', 80),\n",
       "  ('dizendo', 220),\n",
       "  ('convem', 161),\n",
       "  ('hũ', 319),\n",
       "  ('prohibiçoes', 516),\n",
       "  ('distintos', 217),\n",
       "  ('restas', 550)],\n",
       " [('furtar', 294),\n",
       "  ('fim', 273),\n",
       "  ('porque', 500),\n",
       "  ('proposito', 518),\n",
       "  ('outro', 447),\n",
       "  ('he', 305),\n",
       "  ('particular', 457),\n",
       "  ('or', 437),\n",
       "  ('mandamento', 373),\n",
       "  ('depende', 192),\n",
       "  ('fornique', 286),\n",
       "  ('sacrament', 565),\n",
       "  ('lesta', 356),\n",
       "  ('luxuriar', 367),\n",
       "  ('defeso', 187),\n",
       "  ('hep', 306),\n",
       "  ('mudasse', 397),\n",
       "  ('final', 274),\n",
       "  ('conf', 128),\n",
       "  ('funda', 291)],\n",
       " [('mortal', 391),\n",
       "  ('semi', 591),\n",
       "  ('dizer', 221),\n",
       "  ('sam', 572),\n",
       "  ('venial', 653),\n",
       "  ('mas', 381),\n",
       "  ('mortalmente', 392),\n",
       "  ('he', 305),\n",
       "  ('estas', 249),\n",
       "  ('ao', 51),\n",
       "  ('necessidade', 409),\n",
       "  ('porque', 500),\n",
       "  ('peccado', 468),\n",
       "  ('mentira', 386),\n",
       "  ('provoque', 523),\n",
       "  ('apras', 53),\n",
       "  ('corpo', 166),\n",
       "  ('deos', 191),\n",
       "  ('soubesse', 613),\n",
       "  ('palavra', 450)],\n",
       " [('confessor', 142),\n",
       "  ('porque', 500),\n",
       "  ('semi', 591),\n",
       "  ('alcum', 31),\n",
       "  ('outras', 446),\n",
       "  ('penitente', 480),\n",
       "  ('ou', 442),\n",
       "  ('as', 61),\n",
       "  ('ao', 51),\n",
       "  ('segundo', 584),\n",
       "  ('hua', 311),\n",
       "  ('pbre', 463),\n",
       "  ('socorer', 607),\n",
       "  ('escandalize', 241),\n",
       "  ('hã', 318),\n",
       "  ('quaersma', 528),\n",
       "  ('pasassem', 458),\n",
       "  ('provocou', 522),\n",
       "  ('aliuiam', 43),\n",
       "  ('feria', 264)],\n",
       " [('poco', 491),\n",
       "  ('como', 121),\n",
       "  ('muyto', 399),\n",
       "  ('mesma', 387),\n",
       "  ('causa', 93),\n",
       "  ('seja', 586),\n",
       "  ('he', 305),\n",
       "  ('sam', 572),\n",
       "  ('specie', 616),\n",
       "  ('peccado', 468),\n",
       "  ('differir', 209),\n",
       "  ('prova', 520),\n",
       "  ('comuun', 123),\n",
       "  ('couda', 167),\n",
       "  ('contratar', 159),\n",
       "  ('procedẽ', 515),\n",
       "  ('probavel', 514),\n",
       "  ('fazem', 258),\n",
       "  ('xvii', 668),\n",
       "  ('alhea', 42)],\n",
       " [('he', 305),\n",
       "  ('semi', 591),\n",
       "  ('mais', 371),\n",
       "  ('sacerdote', 561),\n",
       "  ('casus', 92),\n",
       "  ('ihe', 324),\n",
       "  ('furtar', 294),\n",
       "  ('foy', 289),\n",
       "  ('porque', 500),\n",
       "  ('papa', 452),\n",
       "  ('cen', 96),\n",
       "  ('ordenam', 439),\n",
       "  ('clerigo', 111),\n",
       "  ('bispo', 69),\n",
       "  ('bios', 68),\n",
       "  ('impoer', 327),\n",
       "  ('comũa', 124),\n",
       "  ('palude', 451),\n",
       "  ('notavelmente', 418),\n",
       "  ('restituyçã', 551)],\n",
       " [('semi', 591),\n",
       "  ('nã', 422),\n",
       "  ('porque', 500),\n",
       "  ('quando', 533),\n",
       "  ('nega', 412),\n",
       "  ('silvestr', 602),\n",
       "  ('receber', 546),\n",
       "  ('agravã', 28),\n",
       "  ('sobredita', 605),\n",
       "  ('receba', 545),\n",
       "  ('collegir', 112),\n",
       "  ('duos', 228),\n",
       "  ('falar', 255),\n",
       "  ('conveniente', 162),\n",
       "  ('suade', 621),\n",
       "  ('suma', 624),\n",
       "  ('antisiodoro', 49),\n",
       "  ('graça', 301),\n",
       "  ('quer', 540),\n",
       "  ('sepone', 595)],\n",
       " [('dia', 207),\n",
       "  ('festa', 268),\n",
       "  ('obra', 423),\n",
       "  ('necessarius', 408),\n",
       "  ('peccado', 468),\n",
       "  ('circunstancia', 104),\n",
       "  ('mortal', 391),\n",
       "  ('he', 305),\n",
       "  ('segundo', 584),\n",
       "  ('porque', 500),\n",
       "  ('quando', 533),\n",
       "  ('fiz', 276),\n",
       "  ('sententiarum', 594),\n",
       "  ('razoavel', 543),\n",
       "  ('parece', 453),\n",
       "  ('fex', 269),\n",
       "  ('servuil', 599),\n",
       "  ('entendido', 234),\n",
       "  ('dous', 225),\n",
       "  ('quebrou', 538)],\n",
       " [('dia', 207),\n",
       "  ('oraçam', 438),\n",
       "  ('jejuum', 347),\n",
       "  ('fizesse', 277),\n",
       "  ('confessata', 137),\n",
       "  ('deputado', 193),\n",
       "  ('acima', 15),\n",
       "  ('salvo', 571),\n",
       "  ('festa', 268),\n",
       "  ('quebrantar', 537),\n",
       "  ('supra', 626),\n",
       "  ('proposito', 518),\n",
       "  ('circunstancia', 104),\n",
       "  ('com', 113),\n",
       "  ('navarro', 405),\n",
       "  ('segundo', 584),\n",
       "  ('necessidade', 409),\n",
       "  ('quando', 533),\n",
       "  ('peccado', 468),\n",
       "  ('ou', 442)],\n",
       " [('lugar', 365),\n",
       "  ('sagrado', 570),\n",
       "  ('ou', 442),\n",
       "  ('circunstancia', 104),\n",
       "  ('necessario', 407),\n",
       "  ('immunidade', 326),\n",
       "  ('semi', 591),\n",
       "  ('he', 305),\n",
       "  ('igreja', 323),\n",
       "  ('quando', 533),\n",
       "  ('peccado', 468),\n",
       "  ('cousas', 169),\n",
       "  ('as', 61),\n",
       "  ('obra', 423),\n",
       "  ('estas', 249),\n",
       "  ('com', 113),\n",
       "  ('navarro', 405),\n",
       "  ('mas', 381),\n",
       "  ('acolhem', 17),\n",
       "  ('come', 114)],\n",
       " '',\n",
       " [('he', 305),\n",
       "  ('mays', 383),\n",
       "  ('mais', 371),\n",
       "  ('porque', 500),\n",
       "  ('pecca', 467),\n",
       "  ('peccado', 468),\n",
       "  ('entonces', 237),\n",
       "  ('mas', 381),\n",
       "  ('stado', 619),\n",
       "  ('manifestala', 378),\n",
       "  ('convexido', 164),\n",
       "  ('mao', 380),\n",
       "  ('muda', 394),\n",
       "  ('ignorante', 322),\n",
       "  ('blasfemia', 71),\n",
       "  ('propria', 519),\n",
       "  ('menos', 385),\n",
       "  ('algũas', 40),\n",
       "  ('paribus', 455),\n",
       "  ('fornicetur', 284)],\n",
       " [('contra', 157),\n",
       "  ('consciencia', 148),\n",
       "  ('feyta', 270),\n",
       "  ('conscientia', 149),\n",
       "  ('ley', 358),\n",
       "  ('fomente', 278),\n",
       "  ('senam', 593),\n",
       "  ('erronea', 240),\n",
       "  ('nenhũa', 414),\n",
       "  ('necessarius', 408),\n",
       "  ('fez', 272),\n",
       "  ('circunstantia', 107),\n",
       "  ('foy', 289),\n",
       "  ('peccar', 471),\n",
       "  ('supra', 626),\n",
       "  ('era', 239),\n",
       "  ('entonces', 237),\n",
       "  ('obra', 423),\n",
       "  ('navarro', 405),\n",
       "  ('quando', 533)],\n",
       " [('peccado', 468),\n",
       "  ('veçes', 661),\n",
       "  ('numero', 421),\n",
       "  ('muytas', 398),\n",
       "  ('circunstantia', 107),\n",
       "  ('he', 305),\n",
       "  ('tanto', 633),\n",
       "  ('porque', 500),\n",
       "  ('declare', 182),\n",
       "  ('pasta', 462),\n",
       "  ('pequey', 483),\n",
       "  ('delles', 188),\n",
       "  ('demaneyra', 189),\n",
       "  ('verifica', 656),\n",
       "  ('diçam', 222),\n",
       "  ('dez', 206),\n",
       "  ('frequentaçam', 290),\n",
       "  ('acrecentamento', 19),\n",
       "  ('constitue', 152),\n",
       "  ('cento', 97)],\n",
       " [('memoria', 384),\n",
       "  ('numero', 421),\n",
       "  ('vezes', 660),\n",
       "  ('semi', 591),\n",
       "  ('assi', 63),\n",
       "  ('cousa', 168),\n",
       "  ('mortalmente', 392),\n",
       "  ('ham', 304),\n",
       "  ('sabe', 558),\n",
       "  ('como', 121),\n",
       "  ('ao', 51),\n",
       "  ('lata', 353),\n",
       "  ('cuidou', 173),\n",
       "  ('conto', 156),\n",
       "  ('conta', 154),\n",
       "  ('confesio', 129),\n",
       "  ('lançar', 352),\n",
       "  ('certo', 99),\n",
       "  ('alguũ', 38),\n",
       "  ('calasse', 85)],\n",
       " [('basta', 66),\n",
       "  ('diga', 210),\n",
       "  ('perseverou', 489),\n",
       "  ('angelo', 46),\n",
       "  ('archidiacono', 59),\n",
       "  ('podesse', 493),\n",
       "  ('vezes', 660),\n",
       "  ('assi', 63),\n",
       "  ('mas', 381),\n",
       "  ('quando', 533),\n",
       "  ('publica', 525),\n",
       "  ('tantos', 634),\n",
       "  ('converdita', 163),\n",
       "  ('amancebado', 45),\n",
       "  ('tempo', 636),\n",
       "  ('anno', 47),\n",
       "  ('annos', 48),\n",
       "  ('huũ', 317),\n",
       "  ('inparius', 335),\n",
       "  ('specificar', 617)],\n",
       " '',\n",
       " '',\n",
       " '',\n",
       " '',\n",
       " '',\n",
       " [('cayda', 95),\n",
       "  ('presença', 511),\n",
       "  ('peccado', 468),\n",
       "  ('he', 305),\n",
       "  ('quando', 533),\n",
       "  ('tal', 628),\n",
       "  ('mas', 381),\n",
       "  ('pecca', 467),\n",
       "  ('com', 113),\n",
       "  ('casos', 91),\n",
       "  ('dos', 224),\n",
       "  ('outro', 447),\n",
       "  ('comete', 117),\n",
       "  ('scandalum', 579),\n",
       "  ('tomaran', 645),\n",
       "  ('disse', 214),\n",
       "  ('ocasiam', 426),\n",
       "  ('confessarse', 135),\n",
       "  ('occasiã', 429),\n",
       "  ('presenza', 510)],\n",
       " [('fez', 272),\n",
       "  ('avia', 65),\n",
       "  ('nã', 422),\n",
       "  ('circunstância', 109),\n",
       "  ('confessou', 144),\n",
       "  ('mas', 381),\n",
       "  ('diga', 210),\n",
       "  ('basta', 66),\n",
       "  ('vaãgloria', 652),\n",
       "  ('esmola', 243),\n",
       "  ('jurado', 349),\n",
       "  ('juramento', 350),\n",
       "  ('três', 648),\n",
       "  ('maa', 369),\n",
       "  ('confesse', 138),\n",
       "  ('necessário', 411),\n",
       "  ('vez', 659),\n",
       "  ('obra', 423),\n",
       "  ('semi', 591),\n",
       "  ('ou', 442)],\n",
       " '',\n",
       " '',\n",
       " '',\n",
       " '',\n",
       " '',\n",
       " '',\n",
       " '']"
      ]
     },
     "execution_count": 129,
     "metadata": {},
     "output_type": "execute_result"
    }
   ],
   "source": [
    "import re\n",
    "import pandas as pd\n",
    "from sklearn.feature_extraction.text import TfidfVectorizer\n",
    "\n",
    "numTopTerms = 20\n",
    "\n",
    "# So first we build a tokenising and lemmatising function to work as an input filter\n",
    "# to the CountVectorizer function\n",
    "def ourLemmatiser(str_input):\n",
    "    wordforms = re.split('\\W+', str_input)\n",
    "    return [lemma[wordform].lower().strip() if wordform in lemma else wordform.lower().strip() for wordform in wordforms ]\n",
    "\n",
    "# !!!!\n",
    "# TODO: The above pipes all the tokens through the latin lemmatizer.\n",
    "# We should lemmatize Spanish and Portuguese differently!\n",
    "# !!!!\n",
    "\n",
    "topTerms = [[]]\n",
    "for i in range(0,4):\n",
    "\n",
    "    topTermsEd = []\n",
    "    # Initialize the library's function, specifying our\n",
    "    # tokenizing function from above and our stopwords list.\n",
    "    tfidf_vectorizer = TfidfVectorizer(stop_words=stopwords, use_idf=True, tokenizer=ourLemmatiser, norm='l2')\n",
    "\n",
    "    # Finally, we feed our corpus to the function to build a new \"tfidf_matrix\" object\n",
    "    tfidf_matrix = tfidf_vectorizer.fit_transform(Editions[i])\n",
    "\n",
    "    # convert your matrix to an array to loop over it\n",
    "    mx_array = tfidf_matrix.toarray()\n",
    "\n",
    "    # get your feature names\n",
    "    fn = tfidf_vectorizer.get_feature_names()\n",
    "\n",
    "    # now loop through all segments and get the respective top n words.\n",
    "    pos = 0\n",
    "    for j in mx_array:\n",
    "    \n",
    "#        print(j[:10][:10])\n",
    "        # Build List of most significant words for a segment\n",
    "#        topTermsEd.append([fn[x] for x in (mx_array[pos]*-1).argsort()][:numTopTerms])\n",
    "        if (j.max() == 0):\n",
    "            topTermsEd.append(\"\")\n",
    "        else:\n",
    "            topTermsEd.append([(fn[x], x) for x in ((j*-1).argsort())]\\\n",
    "                [:min(numTopTerms, len([ourLemmatiser(word) for word in re.split('\\W+', Editions[i][pos]) if ourLemmatiser(word) not in stopwords]))])\n",
    "        print(\"Most significant words in Edition \" + str(i) + \", segment \" + str(pos) + \": \")\n",
    "        print(topTermsEd[pos])\n",
    "        pos += 1\n",
    "        \n",
    "    topTerms.append(topTermsEd)\n",
    "#    print(\"Ed. \" + str(i) + \": \")\n",
    "topTerms[1]"
   ]
  },
  {
   "cell_type": "markdown",
   "metadata": {
    "ExecuteTime": {
     "end_time": "2017-08-30T12:30:15.482766Z",
     "start_time": "2017-08-30T14:30:15.474338+02:00"
    }
   },
   "source": [
    "## Translations?"
   ]
  },
  {
   "cell_type": "markdown",
   "metadata": {},
   "source": [
    "Maybe there is an approach to inter-lingual comparison after all. After a first unsuccessful try with [conceptnet.io](http://conceptnet.io), I next want to try [Babelnet](http://babelnet.org) in order to lookup synonyms, related terms and translations. I still have to study the [API](http://babelnet.org/guide)...\n",
    "\n"
   ]
  },
  {
   "cell_type": "markdown",
   "metadata": {},
   "source": [
    "For example, with a single segment, we could do something like this:"
   ]
  },
  {
   "cell_type": "code",
   "execution_count": 126,
   "metadata": {
    "ExecuteTime": {
     "end_time": "2018-02-06T08:48:50.152859Z",
     "start_time": "2018-02-06T08:48:49.893159Z"
    }
   },
   "outputs": [
    {
     "name": "stdout",
     "output_type": "stream",
     "text": [
      "Comparing words from segments 19 ...\n",
      " \n",
      "Here is the segment in the four editions:\n",
      "Ed. 0:\n",
      "¶A circunstancia do dia deputado a jejuum, ou oraçam : nam he de necessidade confessata : salvo quando fizesse peccado com proposito de ho quebrantar como acima do dia da festa. Segundo Navarro, ubi supra.\n",
      "Ed. 1:\n",
      " ¶ A IX que a circunstancia do dia de jejuũ, ou de oração, não se ha de confessar necessariamente, se não quando se pecca com proposito de ho quebrãtar : porque nã faz algũa das ditas tres cousas, segũdo em outra parte ho provamoss (s : f. in d. c. Consideret n. 32 vers. sic. Ad primum) \n",
      "Ed. 2:\n",
      "17 ¶  El X que la circunstancia del dia de ayuno, o de oracion, no se ha de confessar necessariamente, fino quando se peca con proposito delo quebrantar, por ello por que no haze alguna delas dichas tres cosas, segun lo provamos alibim (m : in d. c. Consideret nu. 32 ver. Ad primum) \n",
      "Ed. 3:\n",
      "17Decimo. Quod circunstantia diei ieiunio vel orationi consecrati, licet videatur aliquantulum augere peccatum, non est de necessitate confitenda, nisi peccatum perpetretur cum proposito violandi  per illud huiusmodi diem; Quoniam non efficit mortale, quod alias non [p. 69r, 150 pdf] esset tale, nec mutat in speciem mortalis, nec facit ut novo respectu sit tale quorum aliquod requiritur ad hoc un circunstantiae fonfessio sit necessaria, ut supra dictum est nu. 3. & probabimus in princip. dicti. c. Consideret, nu. 32 verb. Ad primum.\n",
      " \n",
      "Most significant words in the segment:\n",
      "Ed. 1:\n",
      "[('dia', 207), ('oraçam', 438), ('jejuum', 347), ('fizesse', 277), ('confessata', 137), ('deputado', 193), ('acima', 15), ('salvo', 571), ('festa', 268), ('quebrantar', 537), ('supra', 626), ('proposito', 518), ('circunstancia', 104), ('com', 113), ('navarro', 405), ('segundo', 584), ('necessidade', 409), ('quando', 533), ('peccado', 468), ('ou', 442)]\n",
      "Ed. 2:\n",
      "[('semi', 802), ('jejuũ', 476), ('vers', 920), ('oração', 586), ('ix', 472), ('provamoss', 705), ('segũdo', 794), ('quebrãtar', 725), ('dia', 278), ('necessariamente', 553), ('pecca', 627), ('ditas', 296), ('proposito', 700), ('não', 571), ('algũa', 52), ('tres', 897), ('nã', 570), ('cousas', 229), ('das', 243), ('pario', 611)]\n",
      "Ed. 3:\n",
      "[('x', 1091), ('fino', 459), ('alibim', 68), ('delo', 317), ('quebrantar', 859), ('ver', 1064), ('oracion', 706), ('ayuno', 142), ('delas', 311), ('proposito', 820), ('necessariamente', 667), ('semi', 948), ('peca', 745), ('alguna', 55), ('dia', 347), ('dichas', 350), ('provamos', 828), ('ello', 403), ('segun', 943), ('nu', 680)]\n",
      "Ed. 4:\n"
     ]
    },
    {
     "ename": "IndexError",
     "evalue": "list index out of range",
     "output_type": "error",
     "traceback": [
      "\u001b[0;31m---------------------------------------------------------------------------\u001b[0m",
      "\u001b[0;31mIndexError\u001b[0m                                Traceback (most recent call last)",
      "\u001b[0;32m<ipython-input-126-25071b076d5c>\u001b[0m in \u001b[0;36m<module>\u001b[0;34m()\u001b[0m\n\u001b[1;32m     19\u001b[0m \u001b[0;32mfor\u001b[0m \u001b[0mi\u001b[0m \u001b[0;32min\u001b[0m \u001b[0mrange\u001b[0m\u001b[0;34m(\u001b[0m\u001b[0;36m1\u001b[0m\u001b[0;34m,\u001b[0m\u001b[0;36m5\u001b[0m\u001b[0;34m)\u001b[0m\u001b[0;34m:\u001b[0m\u001b[0;34m\u001b[0m\u001b[0m\n\u001b[1;32m     20\u001b[0m     \u001b[0mprint\u001b[0m\u001b[0;34m(\u001b[0m\u001b[0;34m\"Ed. \"\u001b[0m \u001b[0;34m+\u001b[0m \u001b[0mstr\u001b[0m\u001b[0;34m(\u001b[0m\u001b[0mi\u001b[0m\u001b[0;34m)\u001b[0m \u001b[0;34m+\u001b[0m \u001b[0;34m\":\"\u001b[0m\u001b[0;34m)\u001b[0m\u001b[0;34m\u001b[0m\u001b[0m\n\u001b[0;32m---> 21\u001b[0;31m     \u001b[0mprint\u001b[0m\u001b[0;34m(\u001b[0m\u001b[0mtopTerms\u001b[0m\u001b[0;34m[\u001b[0m\u001b[0mi\u001b[0m\u001b[0;34m]\u001b[0m\u001b[0;34m[\u001b[0m\u001b[0msegment_no\u001b[0m\u001b[0;34m]\u001b[0m\u001b[0;34m)\u001b[0m\u001b[0;34m\u001b[0m\u001b[0m\n\u001b[0m\u001b[1;32m     22\u001b[0m \u001b[0;34m\u001b[0m\u001b[0m\n\u001b[1;32m     23\u001b[0m \u001b[0mprint\u001b[0m\u001b[0;34m(\u001b[0m\u001b[0;34m\" \"\u001b[0m\u001b[0;34m)\u001b[0m\u001b[0;34m\u001b[0m\u001b[0m\n",
      "\u001b[0;31mIndexError\u001b[0m: list index out of range"
     ]
    }
   ],
   "source": [
    "import urllib\n",
    "import json\n",
    "from collections import defaultdict\n",
    "\n",
    "segment_no = 19\n",
    "\n",
    "print(\"Comparing words from segments \" + str(segment_no) + \" ...\")\n",
    "\n",
    "print(\" \")\n",
    "print(\"Here is the segment in the four editions:\")\n",
    "for i in range(0,4):\n",
    "    print(\"Ed. \" + str(i) + \":\")\n",
    "    print(Editions[i][segment_no])\n",
    "\n",
    "print(\" \")\n",
    "# Build List of most significant words for a segment\n",
    "\n",
    "print(\"Most significant words in the segment:\")\n",
    "for i in range(1,5):\n",
    "    print(\"Ed. \" + str(i) + \":\")\n",
    "    print(topTerms[i][segment_no])\n",
    "\n",
    "print(\" \")\n",
    "# Build lists of possible translations (the 15 most closely related ones)\n",
    "top10a_possible_translations = defaultdict(list)\n",
    "for word in top10a:\n",
    "    concepts_uri = \"http://api.conceptnet.io/related/c/la/\" + word + \"?filter=/c/es\"\n",
    "    response = urllib.request.urlopen(concepts_uri)\n",
    "    concepts = json.loads(response.read().decode(response.info().get_param('charset') or 'utf-8'))\n",
    "    for rel in concepts[\"related\"][0:15]:\n",
    "        top10a_possible_translations[word].append(rel.get(\"@id\").split('/')[-1])\n",
    "\n",
    "print(\" \")\n",
    "print(\"For each of the latin words, here are possible translations:\")\n",
    "for word in top10a_possible_translations:\n",
    "    print(word + \":\")\n",
    "    print(', '.join(trans for trans in top10a_possible_translations[word]))\n",
    "\n",
    "print(\" \")\n",
    "print(\" \")\n",
    "# Build list of 10 most significant words in the second language\n",
    "top10b = []\n",
    "top10b = ([spFn[x] for x in (spMx_array[spSegment_no]*-1).argsort()][:12])\n",
    "print(\"Most significant words in the spanish text:\")\n",
    "print(top10b)\n",
    "\n",
    "# calculate number of overlapping terms\n",
    "print(\" \")\n",
    "print(\" \")\n",
    "print(\"Overlaps:\")\n",
    "for word in top10a_possible_translations:\n",
    "    print(', '.join(trans for trans in top10a_possible_translations[word] if (trans in top10b or trans == word)))\n",
    "\n",
    "# do a nifty ranking\n"
   ]
  },
  {
   "cell_type": "markdown",
   "metadata": {
    "ExecuteTime": {
     "end_time": "2017-07-11T07:42:37.598721Z",
     "start_time": "2017-07-11T09:42:37.587926+02:00"
    }
   },
   "source": [
    "## Similarity <a name=\"DocumentSimilarity\"/>"
   ]
  },
  {
   "cell_type": "markdown",
   "metadata": {},
   "source": [
    "Also, once we have a representation of our text as a vector - which we can imagine as an arrow that goes a certain distance in one direction, another distance in another direction and so on - we can compare the different arrows. Do they go the same distance in a particular direction? And maybe almost the same in another direction? This would mean that one of the terms of our vocabulary has the same weight in both texts. Comparing the weight of our many, many dimensions, we can develop a measure for the similarity of the texts.\n",
    "\n",
    "(Probably, similarity in words that are occurring all over the place in the corpus should not count so much, and in fact it is attenuated by our arrows being made up of tf/idf weights.)\n",
    "\n",
    "Comparing arrows means calculating with angles and technically, what we are computing is the \"cosine similarity\" of texts. Again, there is a library ready for us to use (but you can find some documentation [here](http://blog.christianperone.com/2013/09/machine-learning-cosine-similarity-for-vector-space-models-part-iii/), [here](http://scikit-learn.org/stable/modules/metrics.html#cosine-similarity) and [here](https://en.wikipedia.org/wiki/Cosine_similarity).)"
   ]
  },
  {
   "cell_type": "code",
   "execution_count": 14,
   "metadata": {
    "ExecuteTime": {
     "end_time": "2018-02-05T23:23:27.224335Z",
     "start_time": "2018-02-05T23:23:27.017552Z"
    }
   },
   "outputs": [
    {
     "name": "stdout",
     "output_type": "stream",
     "text": [
      "Pairwise similarities:\n",
      "     0         1    2    3    4    5         6    7    8    9  ...    31  \\\n",
      "0   0.0  0.000000  0.0  0.0  0.0  0.0  0.000000  0.0  0.0  0.0 ...   0.0   \n",
      "1   0.0  0.000000  0.0  0.0  0.0  0.0  0.038523  0.0  0.0  0.0 ...   0.0   \n",
      "2   0.0  0.000000  0.0  0.0  0.0  0.0  0.000000  0.0  0.0  0.0 ...   0.0   \n",
      "3   0.0  0.000000  0.0  0.0  0.0  0.0  0.000000  0.0  0.0  0.0 ...   0.0   \n",
      "4   0.0  0.000000  0.0  0.0  0.0  0.0  0.000000  0.0  0.0  0.0 ...   0.0   \n",
      "5   0.0  0.000000  0.0  0.0  0.0  0.0  0.000000  0.0  0.0  0.0 ...   0.0   \n",
      "6   0.0  0.038523  0.0  0.0  0.0  0.0  0.000000  0.0  0.0  0.0 ...   0.0   \n",
      "7   0.0  0.000000  0.0  0.0  0.0  0.0  0.000000  0.0  0.0  0.0 ...   0.0   \n",
      "8   0.0  0.000000  0.0  0.0  0.0  0.0  0.000000  0.0  0.0  0.0 ...   0.0   \n",
      "9   0.0  0.000000  0.0  0.0  0.0  0.0  0.000000  0.0  0.0  0.0 ...   0.0   \n",
      "10  0.0  0.000000  0.0  0.0  0.0  0.0  0.000000  0.0  0.0  0.0 ...   0.0   \n",
      "11  0.0  0.000000  0.0  0.0  0.0  0.0  0.196924  0.0  0.0  0.0 ...   0.0   \n",
      "12  0.0  0.000000  0.0  0.0  0.0  0.0  0.085710  0.0  0.0  0.0 ...   0.0   \n",
      "13  0.0  0.000000  0.0  0.0  0.0  0.0  0.238937  0.0  0.0  0.0 ...   0.0   \n",
      "14  0.0  0.034567  0.0  0.0  0.0  0.0  0.145037  0.0  0.0  0.0 ...   0.0   \n",
      "15  0.0  0.043680  0.0  0.0  0.0  0.0  0.127832  0.0  0.0  0.0 ...   0.0   \n",
      "16  0.0  0.000000  0.0  0.0  0.0  0.0  0.108137  0.0  0.0  0.0 ...   0.0   \n",
      "17  0.0  0.046656  0.0  0.0  0.0  0.0  0.118749  0.0  0.0  0.0 ...   0.0   \n",
      "18  0.0  0.051104  0.0  0.0  0.0  0.0  0.059103  0.0  0.0  0.0 ...   0.0   \n",
      "19  0.0  0.000000  0.0  0.0  0.0  0.0  0.067991  0.0  0.0  0.0 ...   0.0   \n",
      "20  0.0  0.000000  0.0  0.0  0.0  0.0  0.394159  0.0  0.0  0.0 ...   0.0   \n",
      "21  0.0  0.000000  0.0  0.0  0.0  0.0  0.000000  0.0  0.0  0.0 ...   0.0   \n",
      "22  0.0  0.000000  0.0  0.0  0.0  0.0  0.090631  0.0  0.0  0.0 ...   0.0   \n",
      "23  0.0  0.000000  0.0  0.0  0.0  0.0  0.044704  0.0  0.0  0.0 ...   0.0   \n",
      "24  0.0  0.000000  0.0  0.0  0.0  0.0  0.076221  0.0  0.0  0.0 ...   0.0   \n",
      "25  0.0  0.037599  0.0  0.0  0.0  0.0  0.133569  0.0  0.0  0.0 ...   0.0   \n",
      "26  0.0  0.038039  0.0  0.0  0.0  0.0  0.086768  0.0  0.0  0.0 ...   0.0   \n",
      "27  0.0  0.000000  0.0  0.0  0.0  0.0  0.000000  0.0  0.0  0.0 ...   0.0   \n",
      "28  0.0  0.000000  0.0  0.0  0.0  0.0  0.000000  0.0  0.0  0.0 ...   0.0   \n",
      "29  0.0  0.000000  0.0  0.0  0.0  0.0  0.000000  0.0  0.0  0.0 ...   0.0   \n",
      "30  0.0  0.000000  0.0  0.0  0.0  0.0  0.000000  0.0  0.0  0.0 ...   0.0   \n",
      "31  0.0  0.000000  0.0  0.0  0.0  0.0  0.000000  0.0  0.0  0.0 ...   0.0   \n",
      "32  0.0  0.000000  0.0  0.0  0.0  0.0  0.166708  0.0  0.0  0.0 ...   0.0   \n",
      "33  0.0  0.000000  0.0  0.0  0.0  0.0  0.092031  0.0  0.0  0.0 ...   0.0   \n",
      "34  0.0  0.000000  0.0  0.0  0.0  0.0  0.000000  0.0  0.0  0.0 ...   0.0   \n",
      "35  0.0  0.000000  0.0  0.0  0.0  0.0  0.000000  0.0  0.0  0.0 ...   0.0   \n",
      "36  0.0  0.000000  0.0  0.0  0.0  0.0  0.000000  0.0  0.0  0.0 ...   0.0   \n",
      "37  0.0  0.000000  0.0  0.0  0.0  0.0  0.000000  0.0  0.0  0.0 ...   0.0   \n",
      "38  0.0  0.000000  0.0  0.0  0.0  0.0  0.000000  0.0  0.0  0.0 ...   0.0   \n",
      "39  0.0  0.000000  0.0  0.0  0.0  0.0  0.000000  0.0  0.0  0.0 ...   0.0   \n",
      "40  0.0  0.000000  0.0  0.0  0.0  0.0  0.000000  0.0  0.0  0.0 ...   0.0   \n",
      "\n",
      "          32        33   34   35   36   37   38   39   40  \n",
      "0   0.000000  0.000000  0.0  0.0  0.0  0.0  0.0  0.0  0.0  \n",
      "1   0.000000  0.000000  0.0  0.0  0.0  0.0  0.0  0.0  0.0  \n",
      "2   0.000000  0.000000  0.0  0.0  0.0  0.0  0.0  0.0  0.0  \n",
      "3   0.000000  0.000000  0.0  0.0  0.0  0.0  0.0  0.0  0.0  \n",
      "4   0.000000  0.000000  0.0  0.0  0.0  0.0  0.0  0.0  0.0  \n",
      "5   0.000000  0.000000  0.0  0.0  0.0  0.0  0.0  0.0  0.0  \n",
      "6   0.166708  0.092031  0.0  0.0  0.0  0.0  0.0  0.0  0.0  \n",
      "7   0.000000  0.000000  0.0  0.0  0.0  0.0  0.0  0.0  0.0  \n",
      "8   0.000000  0.000000  0.0  0.0  0.0  0.0  0.0  0.0  0.0  \n",
      "9   0.000000  0.000000  0.0  0.0  0.0  0.0  0.0  0.0  0.0  \n",
      "10  0.000000  0.000000  0.0  0.0  0.0  0.0  0.0  0.0  0.0  \n",
      "11  0.172538  0.090993  0.0  0.0  0.0  0.0  0.0  0.0  0.0  \n",
      "12  0.190024  0.130108  0.0  0.0  0.0  0.0  0.0  0.0  0.0  \n",
      "13  0.252831  0.125200  0.0  0.0  0.0  0.0  0.0  0.0  0.0  \n",
      "14  0.173420  0.110849  0.0  0.0  0.0  0.0  0.0  0.0  0.0  \n",
      "15  0.197760  0.067197  0.0  0.0  0.0  0.0  0.0  0.0  0.0  \n",
      "16  0.164747  0.139258  0.0  0.0  0.0  0.0  0.0  0.0  0.0  \n",
      "17  0.172675  0.107433  0.0  0.0  0.0  0.0  0.0  0.0  0.0  \n",
      "18  0.234770  0.130440  0.0  0.0  0.0  0.0  0.0  0.0  0.0  \n",
      "19  0.173493  0.043454  0.0  0.0  0.0  0.0  0.0  0.0  0.0  \n",
      "20  0.224946  0.135974  0.0  0.0  0.0  0.0  0.0  0.0  0.0  \n",
      "21  0.000000  0.000000  0.0  0.0  0.0  0.0  0.0  0.0  0.0  \n",
      "22  0.255747  0.151672  0.0  0.0  0.0  0.0  0.0  0.0  0.0  \n",
      "23  0.144045  0.126098  0.0  0.0  0.0  0.0  0.0  0.0  0.0  \n",
      "24  0.208317  0.104588  0.0  0.0  0.0  0.0  0.0  0.0  0.0  \n",
      "25  0.156473  0.100471  0.0  0.0  0.0  0.0  0.0  0.0  0.0  \n",
      "26  0.154855  0.199225  0.0  0.0  0.0  0.0  0.0  0.0  0.0  \n",
      "27  0.000000  0.000000  0.0  0.0  0.0  0.0  0.0  0.0  0.0  \n",
      "28  0.000000  0.000000  0.0  0.0  0.0  0.0  0.0  0.0  0.0  \n",
      "29  0.000000  0.000000  0.0  0.0  0.0  0.0  0.0  0.0  0.0  \n",
      "30  0.000000  0.000000  0.0  0.0  0.0  0.0  0.0  0.0  0.0  \n",
      "31  0.000000  0.000000  0.0  0.0  0.0  0.0  0.0  0.0  0.0  \n",
      "32  0.000000  0.192803  0.0  0.0  0.0  0.0  0.0  0.0  0.0  \n",
      "33  0.192803  0.000000  0.0  0.0  0.0  0.0  0.0  0.0  0.0  \n",
      "34  0.000000  0.000000  0.0  0.0  0.0  0.0  0.0  0.0  0.0  \n",
      "35  0.000000  0.000000  0.0  0.0  0.0  0.0  0.0  0.0  0.0  \n",
      "36  0.000000  0.000000  0.0  0.0  0.0  0.0  0.0  0.0  0.0  \n",
      "37  0.000000  0.000000  0.0  0.0  0.0  0.0  0.0  0.0  0.0  \n",
      "38  0.000000  0.000000  0.0  0.0  0.0  0.0  0.0  0.0  0.0  \n",
      "39  0.000000  0.000000  0.0  0.0  0.0  0.0  0.0  0.0  0.0  \n",
      "40  0.000000  0.000000  0.0  0.0  0.0  0.0  0.0  0.0  0.0  \n",
      "\n",
      "[41 rows x 41 columns]\n"
     ]
    }
   ],
   "source": [
    "from sklearn.metrics.pairwise import cosine_similarity\n",
    "\n",
    "similarities = pd.DataFrame(cosine_similarity(tfidf_matrix))\n",
    "similarities[round(similarities, 0) == 1] = 0 # Suppress a document's similarity to itself\n",
    "print(\"Pairwise similarities:\")\n",
    "print(similarities)"
   ]
  },
  {
   "cell_type": "code",
   "execution_count": 15,
   "metadata": {
    "ExecuteTime": {
     "end_time": "2018-02-05T23:23:39.058626Z",
     "start_time": "2018-02-05T23:23:39.008667Z"
    }
   },
   "outputs": [
    {
     "name": "stdout",
     "output_type": "stream",
     "text": [
      "The two most similar segments in the corpus are\n",
      "segments 18 and 19 .\n",
      "They have a similarity score of\n",
      "0.4102107979124507\n"
     ]
    }
   ],
   "source": [
    "print(\"The two most similar segments in the corpus are\")\n",
    "print(\"segments\", \\\n",
    "      similarities[similarities == similarities.values.max()].idxmax(axis=0).idxmax(axis=1), \\\n",
    "      \"and\", \\\n",
    "      similarities[similarities == similarities.values.max()].idxmax(axis=0)[ similarities[similarities == similarities.values.max()].idxmax(axis=0).idxmax(axis=1) ].astype(int), \\\n",
    "      \".\")\n",
    "print(\"They have a similarity score of\")\n",
    "print(similarities.values.max())"
   ]
  },
  {
   "cell_type": "markdown",
   "metadata": {},
   "source": [
    "<div class=\"alert alertbox alert-success\">Of course, in every set of documents, we will always find two that are similar in the sense of them being more similar to each other than to the other ones. Whether or not this actually *means* anything in terms of content is still up to scholarly interpretation. But at least it means that a scholar can look at the two documents and when she determines that they are not so similar after all, then perhaps there is something interesting to say about similar vocabulary used for different puproses. Or the other way round: When the scholar knows that two passages are similar, but they have a low \"similarity score\", shouldn't that say something about the texts's rhetorics?</div>"
   ]
  },
  {
   "cell_type": "markdown",
   "metadata": {},
   "source": [
    "## Word Clouds <a name=\"WordClouds\"/>"
   ]
  },
  {
   "cell_type": "markdown",
   "metadata": {},
   "source": [
    "We can use a library that takes word frequencies like above, calculates corresponding relative sizes of words and creates nice wordcloud images for our sections (again, taking the fourth segment as an example) like this:"
   ]
  },
  {
   "cell_type": "code",
   "execution_count": 13,
   "metadata": {
    "ExecuteTime": {
     "end_time": "2018-02-05T23:22:48.941039Z",
     "start_time": "2018-02-05T23:22:48.887734Z"
    }
   },
   "outputs": [
    {
     "ename": "NameError",
     "evalue": "name 'fn' is not defined",
     "output_type": "error",
     "traceback": [
      "\u001b[0;31m---------------------------------------------------------------------------\u001b[0m",
      "\u001b[0;31mNameError\u001b[0m                                 Traceback (most recent call last)",
      "\u001b[0;32m<ipython-input-13-50500268115e>\u001b[0m in \u001b[0;36m<module>\u001b[0;34m()\u001b[0m\n\u001b[1;32m      5\u001b[0m \u001b[0;31m# But we have to convert our tf/idf weights to pseudo-frequencies (i.e. integer numbers)\u001b[0m\u001b[0;34m\u001b[0m\u001b[0;34m\u001b[0m\u001b[0m\n\u001b[1;32m      6\u001b[0m \u001b[0mfrq\u001b[0m \u001b[0;34m=\u001b[0m \u001b[0;34m[\u001b[0m \u001b[0mint\u001b[0m\u001b[0;34m(\u001b[0m\u001b[0mround\u001b[0m\u001b[0;34m(\u001b[0m\u001b[0mx\u001b[0m \u001b[0;34m*\u001b[0m \u001b[0;36m100000\u001b[0m\u001b[0;34m,\u001b[0m \u001b[0;36m0\u001b[0m\u001b[0;34m)\u001b[0m\u001b[0;34m)\u001b[0m \u001b[0;32mfor\u001b[0m \u001b[0mx\u001b[0m \u001b[0;32min\u001b[0m \u001b[0mEditions\u001b[0m\u001b[0;34m[\u001b[0m\u001b[0;36m1\u001b[0m\u001b[0;34m]\u001b[0m\u001b[0;34m[\u001b[0m\u001b[0;36m3\u001b[0m\u001b[0;34m]\u001b[0m\u001b[0;34m]\u001b[0m\u001b[0;34m\u001b[0m\u001b[0m\n\u001b[0;32m----> 7\u001b[0;31m \u001b[0mfreq\u001b[0m \u001b[0;34m=\u001b[0m \u001b[0mdict\u001b[0m\u001b[0;34m(\u001b[0m\u001b[0mzip\u001b[0m\u001b[0;34m(\u001b[0m\u001b[0mfn\u001b[0m\u001b[0;34m,\u001b[0m \u001b[0mfrq\u001b[0m\u001b[0;34m)\u001b[0m\u001b[0;34m)\u001b[0m\u001b[0;34m\u001b[0m\u001b[0m\n\u001b[0m\u001b[1;32m      8\u001b[0m \u001b[0;34m\u001b[0m\u001b[0m\n\u001b[1;32m      9\u001b[0m \u001b[0mwc\u001b[0m \u001b[0;34m=\u001b[0m \u001b[0mWordCloud\u001b[0m\u001b[0;34m(\u001b[0m\u001b[0mbackground_color\u001b[0m\u001b[0;34m=\u001b[0m\u001b[0;32mNone\u001b[0m\u001b[0;34m,\u001b[0m \u001b[0mmode\u001b[0m\u001b[0;34m=\u001b[0m\u001b[0;34m\"RGBA\"\u001b[0m\u001b[0;34m,\u001b[0m \u001b[0mmax_font_size\u001b[0m\u001b[0;34m=\u001b[0m\u001b[0;36m40\u001b[0m\u001b[0;34m,\u001b[0m \u001b[0mrelative_scaling\u001b[0m\u001b[0;34m=\u001b[0m\u001b[0;36m1\u001b[0m\u001b[0;34m)\u001b[0m\u001b[0;34m.\u001b[0m\u001b[0mfit_words\u001b[0m\u001b[0;34m(\u001b[0m\u001b[0mfreq\u001b[0m\u001b[0;34m)\u001b[0m\u001b[0;34m\u001b[0m\u001b[0m\n",
      "\u001b[0;31mNameError\u001b[0m: name 'fn' is not defined"
     ]
    }
   ],
   "source": [
    "from wordcloud import WordCloud\n",
    "import matplotlib.pyplot as plt\n",
    "\n",
    "# We make tuples of (lemma, tf/idf score) for one of our segments\n",
    "# But we have to convert our tf/idf weights to pseudo-frequencies (i.e. integer numbers)\n",
    "frq = [ int(round(x * 100000, 0)) for x in Editions[1][3]]\n",
    "freq = dict(zip(fn, frq))\n",
    "\n",
    "wc = WordCloud(background_color=None, mode=\"RGBA\", max_font_size=40, relative_scaling=1).fit_words(freq)\n",
    "\n",
    "# Now show/plot the wordcloud\n",
    "plt.figure()\n",
    "plt.imshow(wc, interpolation=\"bilinear\")\n",
    "plt.axis(\"off\")\n",
    "plt.show()"
   ]
  },
  {
   "cell_type": "markdown",
   "metadata": {},
   "source": [
    "In order to have a nicer overview over the many segments than is possible in this notebook, let's create a new html file listing some of the characteristics that we have found so far..."
   ]
  },
  {
   "cell_type": "code",
   "execution_count": 98,
   "metadata": {
    "ExecuteTime": {
     "end_time": "2018-02-05T16:41:34.901698Z",
     "start_time": "2018-02-05T16:41:34.866575Z"
    }
   },
   "outputs": [
    {
     "ename": "NameError",
     "evalue": "name 'WordCloud' is not defined",
     "output_type": "error",
     "traceback": [
      "\u001b[1;31m---------------------------------------------------------------------------\u001b[0m",
      "\u001b[1;31mNameError\u001b[0m                                 Traceback (most recent call last)",
      "\u001b[1;32m<ipython-input-98-2073f2fd43f1>\u001b[0m in \u001b[0;36m<module>\u001b[1;34m()\u001b[0m\n\u001b[0;32m     24\u001b[0m     \u001b[0ma\u001b[0m\u001b[1;33m.\u001b[0m\u001b[0mappend\u001b[0m\u001b[1;33m(\u001b[0m\u001b[1;33m[\u001b[0m \u001b[0mint\u001b[0m\u001b[1;33m(\u001b[0m\u001b[0mround\u001b[0m\u001b[1;33m(\u001b[0m\u001b[0mx\u001b[0m \u001b[1;33m*\u001b[0m \u001b[1;36m100000\u001b[0m\u001b[1;33m,\u001b[0m \u001b[1;36m0\u001b[0m\u001b[1;33m)\u001b[0m\u001b[1;33m)\u001b[0m \u001b[1;32mfor\u001b[0m \u001b[0mx\u001b[0m \u001b[1;32min\u001b[0m \u001b[0mmx_array\u001b[0m\u001b[1;33m[\u001b[0m\u001b[0mi\u001b[0m\u001b[1;33m]\u001b[0m\u001b[1;33m]\u001b[0m\u001b[1;33m)\u001b[0m\u001b[1;33m\u001b[0m\u001b[0m\n\u001b[0;32m     25\u001b[0m     \u001b[0mdicts\u001b[0m\u001b[1;33m.\u001b[0m\u001b[0mappend\u001b[0m\u001b[1;33m(\u001b[0m\u001b[0mdict\u001b[0m\u001b[1;33m(\u001b[0m\u001b[0mzip\u001b[0m\u001b[1;33m(\u001b[0m\u001b[0mfn\u001b[0m\u001b[1;33m,\u001b[0m \u001b[0ma\u001b[0m\u001b[1;33m[\u001b[0m\u001b[0mi\u001b[0m\u001b[1;33m]\u001b[0m\u001b[1;33m)\u001b[0m\u001b[1;33m)\u001b[0m\u001b[1;33m)\u001b[0m\u001b[1;33m\u001b[0m\u001b[0m\n\u001b[1;32m---> 26\u001b[1;33m     \u001b[0mw\u001b[0m\u001b[1;33m.\u001b[0m\u001b[0mappend\u001b[0m\u001b[1;33m(\u001b[0m\u001b[0mWordCloud\u001b[0m\u001b[1;33m(\u001b[0m\u001b[0mbackground_color\u001b[0m\u001b[1;33m=\u001b[0m\u001b[1;32mNone\u001b[0m\u001b[1;33m,\u001b[0m \u001b[0mmode\u001b[0m\u001b[1;33m=\u001b[0m\u001b[1;34m\"RGBA\"\u001b[0m\u001b[1;33m,\u001b[0m                        \u001b[0mmax_font_size\u001b[0m\u001b[1;33m=\u001b[0m\u001b[1;36m40\u001b[0m\u001b[1;33m,\u001b[0m \u001b[0mmin_font_size\u001b[0m\u001b[1;33m=\u001b[0m\u001b[1;36m10\u001b[0m\u001b[1;33m,\u001b[0m                        \u001b[0mmax_words\u001b[0m\u001b[1;33m=\u001b[0m\u001b[1;36m60\u001b[0m\u001b[1;33m,\u001b[0m \u001b[0mrelative_scaling\u001b[0m\u001b[1;33m=\u001b[0m\u001b[1;36m0.8\u001b[0m\u001b[1;33m)\u001b[0m\u001b[1;33m.\u001b[0m\u001b[0mfit_words\u001b[0m\u001b[1;33m(\u001b[0m\u001b[0mdicts\u001b[0m\u001b[1;33m[\u001b[0m\u001b[0mi\u001b[0m\u001b[1;33m]\u001b[0m\u001b[1;33m)\u001b[0m\u001b[1;33m)\u001b[0m\u001b[1;33m\u001b[0m\u001b[0m\n\u001b[0m\u001b[0;32m     27\u001b[0m     \u001b[1;31m# We write the wordcloud image to a file\u001b[0m\u001b[1;33m\u001b[0m\u001b[1;33m\u001b[0m\u001b[0m\n\u001b[0;32m     28\u001b[0m     \u001b[0mw\u001b[0m\u001b[1;33m[\u001b[0m\u001b[0mi\u001b[0m\u001b[1;33m]\u001b[0m\u001b[1;33m.\u001b[0m\u001b[0mto_file\u001b[0m\u001b[1;33m(\u001b[0m\u001b[0moutputDir\u001b[0m \u001b[1;33m+\u001b[0m \u001b[1;34m'/wc_'\u001b[0m \u001b[1;33m+\u001b[0m \u001b[0mstr\u001b[0m\u001b[1;33m(\u001b[0m\u001b[0mi\u001b[0m\u001b[1;33m)\u001b[0m \u001b[1;33m+\u001b[0m \u001b[1;34m'.png'\u001b[0m\u001b[1;33m)\u001b[0m\u001b[1;33m\u001b[0m\u001b[0m\n",
      "\u001b[1;31mNameError\u001b[0m: name 'WordCloud' is not defined"
     ]
    }
   ],
   "source": [
    "outputDir = \"Azpilcueta\"\n",
    "htmlfile = open(outputDir + '/Overview.html', encoding='utf-8', mode='w')\n",
    "\n",
    "# Write the html header and the opening of a layout table\n",
    "htmlfile.write(\"\"\"<!DOCTYPE html>\n",
    "<html>\n",
    "    <head>\n",
    "        <title>Section Characteristics</title>\n",
    "        <meta charset=\"utf-8\"/>\n",
    "    </head>\n",
    "    <body>\n",
    "        <table>\n",
    "\"\"\")\n",
    "\n",
    "a = [[]]\n",
    "a.clear()\n",
    "dicts = []\n",
    "w = []\n",
    "\n",
    "# For each segment, create a wordcloud and write it along with label and\n",
    "# other information into a new row of the html table\n",
    "for i in range(0, len(mx_array)):\n",
    "    # this is like above in the single-segment example...\n",
    "    a.append([ int(round(x * 100000, 0)) for x in mx_array[i]])\n",
    "    dicts.append(dict(zip(fn, a[i])))\n",
    "    w.append(WordCloud(background_color=None, mode=\"RGBA\", \\\n",
    "                       max_font_size=40, min_font_size=10, \\\n",
    "                       max_words=60, relative_scaling=0.8).fit_words(dicts[i]))\n",
    "    # We write the wordcloud image to a file\n",
    "    w[i].to_file(outputDir + '/wc_' + str(i) + '.png')\n",
    "    # Finally we write the column row\n",
    "    htmlfile.write(\"\"\"\n",
    "            <tr>\n",
    "                <td>\n",
    "                    <head>Section {a}: <b>{b}</b></head><br/>\n",
    "                    <img src=\"./wc_{a}.png\"/><br/>\n",
    "                    <small><i>length: {c} words</i></small>\n",
    "                </td>\n",
    "            </tr>\n",
    "            <tr><td>&nbsp;</td></tr>\n",
    "\"\"\".format(a = str(i), b = label[i], c = len(tokenised[i])))\n",
    "\n",
    "# And then we write the end of the html file.\n",
    "htmlfile.write(\"\"\"\n",
    "        </table>\n",
    "    </body>\n",
    "</html>\n",
    "\"\"\")\n",
    "htmlfile.close()"
   ]
  },
  {
   "cell_type": "markdown",
   "metadata": {},
   "source": [
    "This should have created a nice html file which we can open [here](./Solorzano/Overview.html)."
   ]
  }
 ],
 "metadata": {
  "anaconda-cloud": {},
  "kernelspec": {
   "display_name": "Python 3",
   "language": "python",
   "name": "python3"
  },
  "language_info": {
   "codemirror_mode": {
    "name": "ipython",
    "version": 3
   },
   "file_extension": ".py",
   "mimetype": "text/x-python",
   "name": "python",
   "nbconvert_exporter": "python",
   "pygments_lexer": "ipython3",
   "version": "3.6.4"
  },
  "toc": {
   "colors": {
    "hover_highlight": "#DAA520",
    "navigate_num": "#000000",
    "navigate_text": "#333333",
    "running_highlight": "#FF0000",
    "selected_highlight": "#FFD700",
    "sidebar_border": "#EEEEEE",
    "wrapper_background": "#FFFFFF"
   },
   "moveMenuLeft": true,
   "nav_menu": {
    "height": "245px",
    "width": "252px"
   },
   "navigate_menu": true,
   "number_sections": true,
   "sideBar": true,
   "skip_h1_title": false,
   "threshold": "2",
   "title_cell": "Table of Contents",
   "title_sidebar": "Contents",
   "toc_cell": true,
   "toc_position": {},
   "toc_section_display": "block",
   "toc_window_display": false,
   "widenNotebook": false
  },
  "varInspector": {
   "cols": {
    "lenName": 16,
    "lenType": 16,
    "lenVar": 40
   },
   "kernels_config": {
    "python": {
     "delete_cmd_postfix": "",
     "delete_cmd_prefix": "del ",
     "library": "var_list.py",
     "varRefreshCmd": "print(var_dic_list())"
    },
    "r": {
     "delete_cmd_postfix": ") ",
     "delete_cmd_prefix": "rm(",
     "library": "var_list.r",
     "varRefreshCmd": "cat(var_dic_list()) "
    }
   },
   "types_to_exclude": [
    "module",
    "function",
    "builtin_function_or_method",
    "instance",
    "_Feature"
   ],
   "window_display": false
  }
 },
 "nbformat": 4,
 "nbformat_minor": 2
}
