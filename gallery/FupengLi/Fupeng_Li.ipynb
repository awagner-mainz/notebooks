{
 "cells": [
  {
   "cell_type": "markdown",
   "metadata": {
    "toc": "true"
   },
   "source": [
    "# Table of Contents\n",
    " <p>"
   ]
  },
  {
   "cell_type": "markdown",
   "metadata": {
    "toc": true
   },
   "source": [
    "<h1>Table of Contents<span class=\"tocSkip\"></span></h1>\n",
    "<div class=\"toc\"><ul class=\"toc-item\"></ul></div>"
   ]
  },
  {
   "cell_type": "markdown",
   "metadata": {},
   "source": [
    "Citation network of drafts of Chinese constitution\n",
    "\n",
    "Hive Plot visualization"
   ]
  },
  {
   "cell_type": "raw",
   "metadata": {
    "ExecuteTime": {
     "end_time": "2019-10-21T20:23:49.637341Z",
     "start_time": "2019-10-21T20:23:47.822433Z"
    }
   },
   "source": [
    "# Install a pip package in the current Jupyter kernel\n",
    "import sys\n",
    "!{sys.executable} -m pip install pyveplot"
   ]
  },
  {
   "cell_type": "code",
   "execution_count": 1,
   "metadata": {
    "ExecuteTime": {
     "end_time": "2020-01-07T12:47:04.808226Z",
     "start_time": "2020-01-07T12:47:04.744962Z"
    }
   },
   "outputs": [
    {
     "ename": "ModuleNotFoundError",
     "evalue": "No module named 'pyveplot'",
     "output_type": "error",
     "traceback": [
      "\u001b[0;31m---------------------------------------------------------------------------\u001b[0m",
      "\u001b[0;31mModuleNotFoundError\u001b[0m                       Traceback (most recent call last)",
      "\u001b[0;32m<ipython-input-1-7d9d094146c2>\u001b[0m in \u001b[0;36m<module>\u001b[0;34m\u001b[0m\n\u001b[0;32m----> 1\u001b[0;31m \u001b[0;32mfrom\u001b[0m \u001b[0mpyveplot\u001b[0m \u001b[0;32mimport\u001b[0m \u001b[0mHiveplot\u001b[0m\u001b[0;34m,\u001b[0m \u001b[0mAxis\u001b[0m\u001b[0;34m,\u001b[0m \u001b[0mNode\u001b[0m\u001b[0;34m\u001b[0m\u001b[0;34m\u001b[0m\u001b[0m\n\u001b[0m\u001b[1;32m      2\u001b[0m \u001b[0;32mimport\u001b[0m \u001b[0mnetworkx\u001b[0m \u001b[0;32mas\u001b[0m \u001b[0mnx\u001b[0m\u001b[0;34m\u001b[0m\u001b[0;34m\u001b[0m\u001b[0m\n\u001b[1;32m      3\u001b[0m \u001b[0;32mimport\u001b[0m \u001b[0mcsv\u001b[0m\u001b[0;34m\u001b[0m\u001b[0;34m\u001b[0m\u001b[0m\n\u001b[1;32m      4\u001b[0m \u001b[0;34m\u001b[0m\u001b[0m\n\u001b[1;32m      5\u001b[0m \u001b[0mG\u001b[0m \u001b[0;34m=\u001b[0m \u001b[0mnx\u001b[0m\u001b[0;34m.\u001b[0m\u001b[0mDiGraph\u001b[0m\u001b[0;34m(\u001b[0m\u001b[0;34m)\u001b[0m\u001b[0;34m\u001b[0m\u001b[0;34m\u001b[0m\u001b[0m\n",
      "\u001b[0;31mModuleNotFoundError\u001b[0m: No module named 'pyveplot'"
     ]
    }
   ],
   "source": [
    "from pyveplot import Hiveplot, Axis, Node\n",
    "import networkx as nx\n",
    "import csv\n",
    "\n",
    "G = nx.DiGraph()\n",
    "\n",
    "with open('nodes.csv') as csvfile:\n",
    "    readCSV = csv.reader(csvfile, delimiter=',')\n",
    "\n",
    "    for i, data in enumerate(readCSV):\n",
    "        if data[0] != \"id\":\n",
    "            G.add_node(data[0], idx=i, axis=data[1], label=data[2], pos=data[3], height=data[4])\n",
    "\n",
    "with open('edges_v2.csv') as csvfile:\n",
    "    readCSV = csv.reader(csvfile, delimiter=',')\n",
    "\n",
    "    for row in readCSV:\n",
    "        if row[0] != \"source\":\n",
    "            G.add_edge(row[0], row[1])"
   ]
  },
  {
   "cell_type": "code",
   "execution_count": null,
   "metadata": {
    "ExecuteTime": {
     "end_time": "2019-10-21T22:27:27.140860Z",
     "start_time": "2019-10-21T22:27:27.125247Z"
    }
   },
   "outputs": [],
   "source": [
    "G.nodes.data()"
   ]
  },
  {
   "cell_type": "code",
   "execution_count": null,
   "metadata": {
    "ExecuteTime": {
     "end_time": "2019-10-21T22:27:30.483462Z",
     "start_time": "2019-10-21T22:27:27.144785Z"
    }
   },
   "outputs": [],
   "source": [
    "colors = {}\n",
    "colors[0] = ['#aae890', # bright green\n",
    "             '#4daf4a', # apple green \n",
    "             '#72b077'  # greyish green\n",
    "            ]\n",
    "colors[1] = ['#e41a1c', # red\n",
    "             '#377eb8', # cold blue\n",
    "             '#984ea3', # purple\n",
    "             '#ff7f00', # orange\n",
    "             '#a65628', # brown\n",
    "             '#f781bf'  # pink\n",
    "            ]\n",
    "colors[2] = ['#ffff33'] # bright yellow\n",
    "\n",
    "\n",
    "# create hiveplot object\n",
    "h = Hiveplot('hiveplot.svg')\n",
    "\n",
    "# create three axes, spaced at 120 degrees from each other\n",
    "h.axes = [Axis(start=20, angle=-90,\n",
    "               stroke=colors[0][0], stroke_width=1),\n",
    "          Axis(start=20, angle=-90 + 120,\n",
    "               stroke=colors[1][0], stroke_width=1),\n",
    "          Axis(start=20, angle=-90 + 120 + 120,\n",
    "               stroke=colors[2][0], stroke_width=1)\n",
    "          ]\n",
    "\n",
    "# categorize them into three groups\n",
    "draft_articles = [v for v in G.nodes() if G.nodes[v]['axis'] == \"Draft Articles\"]\n",
    "foreign_leg    = [v for v in G.nodes() if G.nodes[v]['axis'] == \"Foreign Legislation\"]\n",
    "trad_sources   = [v for v in G.nodes() if G.nodes[v]['axis'] == \"Traditional Sources\"]\n",
    "\n",
    "# place these nodes onto our three axes\n",
    "for axis, nodes in zip(h.axes,\n",
    "                       [draft_articles, foreign_leg, trad_sources]):\n",
    "    s = \"\"\n",
    "    color_idx = -1\n",
    "    circle_color = colors[2][0]\n",
    "    for v in nodes:\n",
    "        if axis == h.axes[0] and G.nodes[v]['label'][:10] != s :\n",
    "            color_idx += 1\n",
    "            circle_color = colors[0][color_idx % len(colors[0])]\n",
    "            s = G.nodes[v]['label'][:10]\n",
    "        if axis == h.axes[1] and G.nodes[v]['label'][:4] != s :\n",
    "            color_idx +=1\n",
    "            circle_color = colors[1][color_idx % len(colors[1])]\n",
    "            s = G.nodes[v]['label'][:4]\n",
    "        # create node object\n",
    "        node = Node(radius=8,\n",
    "                    label=\"%s\" % (G.nodes[v]['label']))\n",
    "        # add it to axis\n",
    "        axis.add_node(v, node)\n",
    "        # once it has x, y coordinates, add a circle\n",
    "        node.add_circle(fill=circle_color, stroke=circle_color,\n",
    "                        stroke_width=0.1, fill_opacity=0.7)\n",
    "        if axis.angle < 0:\n",
    "            orientation = 1\n",
    "            scale = 0.6\n",
    "        else:\n",
    "            orientation = -1\n",
    "            scale = 0.35\n",
    "        # also add a label\n",
    "        node.add_label(label=\"%s\" % (G.nodes[v]['label']),\n",
    "                       angle=axis.angle + 90 * orientation,\n",
    "                       scale=scale)\n",
    "\n",
    "# iterate through axes, from left to right\n",
    "for n in range(-1, len(h.axes) - 1):\n",
    "    # draw curves between nodes connected by edges in network\n",
    "    h.connect_axes(h.axes[n],\n",
    "                   h.axes[n+1],\n",
    "                   G.edges,\n",
    "                   stroke_width=0.3,\n",
    "                   stroke='#999999')\n",
    "\n",
    "# save output\n",
    "h.save('hiveplot.svg')"
   ]
  },
  {
   "cell_type": "markdown",
   "metadata": {},
   "source": [
    "Next, try with graph_tool:"
   ]
  },
  {
   "cell_type": "code",
   "execution_count": 21,
   "metadata": {
    "ExecuteTime": {
     "end_time": "2020-01-07T13:51:22.269504Z",
     "start_time": "2020-01-07T13:51:21.995305Z"
    }
   },
   "outputs": [
    {
     "name": "stdout",
     "output_type": "stream",
     "text": [
      "Indegree problem with vertex Origin\n"
     ]
    }
   ],
   "source": [
    "from graph_tool.all import *\n",
    "import csv\n",
    "\n",
    "hy = Graph()\n",
    "v_name = hy.new_vertex_property(\"string\")\n",
    "v_color = hy.new_vertex_property(\"string\")\n",
    "v_size = hy.new_vertex_property(\"float\")\n",
    "\n",
    "# The file nodes.tsv contains the hierarchy of nodes, from a single \"Origin\" origin, in \"from\"-\"to\" relations\n",
    "with open('nodes.tsv') as csvfile: \n",
    "    readCSV = csv.reader(csvfile, delimiter='\\t')\n",
    "    next(readCSV, None)  # skip the headers\n",
    "\n",
    "    for row in readCSV:\n",
    "        q  = row[0]       # from\n",
    "        qc = row[1]       # from_color\n",
    "        z  = row[2]       # to\n",
    "        zc = row[3]       # to_color\n",
    "        if len(graph_tool.util.find_vertex(hy, v_name, q)) == 0:\n",
    "            s = hy.add_vertex()\n",
    "            v_name[s] = q\n",
    "            v_color[s] = qc\n",
    "            if qc == \"black\": v_size[s] = 0\n",
    "            else: v_size[s] = 10\n",
    "        else:\n",
    "            s = graph_tool.util.find_vertex(hy, v_name, q)[0]\n",
    "\n",
    "        if len(graph_tool.util.find_vertex(hy, v_name, z)) == 0:\n",
    "            t = hy.add_vertex()\n",
    "            v_name[t] = z\n",
    "            v_color[t] = zc\n",
    "            if zc == \"black\": v_size[t] = 0\n",
    "            else: v_size[t] = 10\n",
    "        else:\n",
    "            t = graph_tool.util.find_vertex(hy, v_name, z)[0]\n",
    "        \n",
    "        if not hy.edge(s, t):\n",
    "            hy.add_edge(s, t)\n",
    "\n",
    "pos = graph_tool.draw.radial_tree_layout(hy, hy.vertex(0), rel_order=v_name, weighted=True)\n",
    "\n",
    "graph_draw(hy, pos=pos, vertex_text=v_name, vertex_fill_color=v_color, vertex_font_size=10, vertex_text_position=\"centered\",\n",
    "            output_size=(1024, 768), edge_pen_width=2, output=\"hierarchy.png\")\n",
    "\n",
    "if graph_tool.util.find_vertex(hy, \"in\", 0):\n",
    "    l = graph_tool.util.find_vertex(hy, \"in\", 0)\n",
    "    for n in l:\n",
    "        print(\"Indegree problem with vertex {}\".format(v_name[n]))\n",
    "\n",
    "hy.save(\"hierarchy.xml.gz\")"
   ]
  },
  {
   "cell_type": "code",
   "execution_count": 22,
   "metadata": {
    "ExecuteTime": {
     "end_time": "2020-01-07T13:51:27.399013Z",
     "start_time": "2020-01-07T13:51:26.808841Z"
    }
   },
   "outputs": [
    {
     "data": {
      "text/plain": [
       "<VertexPropertyMap object with value type 'vector<double>', for Graph 0x7ff1d86347c0, at 0x7ff1d8634d30>"
      ]
     },
     "execution_count": 22,
     "metadata": {},
     "output_type": "execute_result"
    }
   ],
   "source": [
    "nw = Graph()\n",
    "nwv_name  = nw.new_vertex_property(\"string\")\n",
    "nwv_color = nw.new_vertex_property(\"string\")\n",
    "nwv_size  = nw.new_vertex_property(\"float\")\n",
    "nwe_color = nw.new_edge_property(\"string\")\n",
    "\n",
    "for v in hy.vertices():\n",
    "    n = nw.add_vertex()\n",
    "    nwv_name[n]  = v_name[v]\n",
    "    nwv_color[n] = v_color[v]\n",
    "    nwv_size[n]  = v_size[v]\n",
    "\n",
    "with open('edges_specific.tsv') as csvfile:\n",
    "    readCSV = csv.reader(csvfile, delimiter = '\\t')\n",
    "    next(readCSV, None)  # skip the headers\n",
    "\n",
    "    for row in readCSV:\n",
    "        source = \"\"\n",
    "        target = \"\"\n",
    "        \n",
    "        f = row[0]       # from\n",
    "        t = row[1]       # to\n",
    "        d = row[2]       # direct\n",
    "        n = row[3]       # footnote\n",
    "        a = row[4]       # attitude\n",
    "        s = row[5]       # specific\n",
    "        c = row[6]       # e_color\n",
    "\n",
    "        if len(graph_tool.util.find_vertex(nw, nwv_name, f)) == 0:\n",
    "            print(\"Node hierarchy does not contain '{}', although it occurs as a source in edges list.\".format(f))\n",
    "        else:\n",
    "            source = graph_tool.util.find_vertex(nw, nwv_name, f)[0]\n",
    "        \n",
    "        if len(graph_tool.util.find_vertex(nw, nwv_name, t)) == 0:\n",
    "            print(\"Node hierarchy does not contain '{}', although it occurs as a target in edges list.\".format(t))\n",
    "        else:\n",
    "            target = graph_tool.util.find_vertex(nw, nwv_name, t)[0]\n",
    "        \n",
    "        e = nw.add_edge(source, target)\n",
    "        nwe_color[e] = c\n",
    "\n",
    "with open('edges_unspecific.tsv') as csvfile:\n",
    "    # readCSV = csv.reader(csvfile, delimiter = '\\t')\n",
    "    # next(readCSV, None)  # skip the headers\n",
    "\n",
    "    for row in csv.reader(csvfile.readlines()[1:], delimiter = '\\t'):\n",
    "        f = row[0]       # from\n",
    "        t = row[1]       # to\n",
    "        d = row[2]       # direct\n",
    "        n = row[3]       # footnote\n",
    "        a = row[4]       # attitude\n",
    "        s = row[5]       # specific\n",
    "        c = row[6]       # e_color\n",
    "\n",
    "        if len(graph_tool.util.find_vertex(nw, nwv_name, f)) == 0:\n",
    "            print(\"Node hierarchy does not contain '{}', although it occurs as a source in edges list.\".format(f))\n",
    "        else:\n",
    "            source = graph_tool.util.find_vertex(nw, nwv_name, f)[0]\n",
    "        \n",
    "        if len(graph_tool.util.find_vertex(nw, nwv_name, t)) == 0:\n",
    "            print(\"Node hierarchy does not contain '{}', although it occurs as a target in edges list.\".format(t))\n",
    "        else:\n",
    "            target = graph_tool.util.find_vertex(nw, nwv_name, t)[0]\n",
    "\n",
    "        e = nw.add_edge(source, target)\n",
    "        nwe_color[e] = c\n",
    "\n",
    "nw.save(\"network.xml.gz\")\n",
    "\n",
    "graph_draw(nw, vertex_text=nwv_name, vertex_fill_color=nwv_color, vertex_font_size=10, vertex_text_position=10,\n",
    "           output_size=(1024, 768), edge_pen_width=2, output=\"network_1.png\")\n"
   ]
  },
  {
   "cell_type": "code",
   "execution_count": 29,
   "metadata": {
    "ExecuteTime": {
     "end_time": "2020-01-07T14:22:35.960969Z",
     "start_time": "2020-01-07T14:22:35.519161Z"
    }
   },
   "outputs": [
    {
     "data": {
      "text/plain": [
       "<VertexPropertyMap object with value type 'vector<double>', for Graph 0x7ff1d86347c0, at 0x7ff1d8888340>"
      ]
     },
     "execution_count": 29,
     "metadata": {},
     "output_type": "execute_result"
    }
   ],
   "source": [
    "# state = graph_tool.inference.minimize.minimize_nested_blockmodel_dl(nw, deg_corr=True)\n",
    "# t     = graph_tool.inference.nested_blockmodel.get_hierarchy_tree(state)[0]\n",
    "\n",
    "hypos  = graph_tool.draw.radial_tree_layout(hy, hy.vertex(0), rel_order=v_name, weighted=True)\n",
    "\n",
    "cts   = graph_tool.draw.get_hierarchy_control_points(nw, hy, hypos, beta=0.8, max_depth=3)\n",
    "pos   = nw.own_property(hypos)\n",
    "\n",
    "graph_draw(nw, pos=pos, vertex_text=nwv_name, vertex_fill_color=nwv_color,\n",
    "           vertex_font_size=nwv_size, vertex_size=nwv_size, vertex_text_position=\"centered\",\n",
    "           edge_control_points=cts, edge_pen_width=1, edge_color=nwe_color,\n",
    "           output_size=(1500, 1500), output=\"network_2.png\")\n"
   ]
  }
 ],
 "metadata": {
  "anaconda-cloud": {},
  "kernelspec": {
   "display_name": "Python 3",
   "language": "python",
   "name": "python3"
  },
  "language_info": {
   "codemirror_mode": {
    "name": "ipython",
    "version": 3
   },
   "file_extension": ".py",
   "mimetype": "text/x-python",
   "name": "python",
   "nbconvert_exporter": "python",
   "pygments_lexer": "ipython3",
   "version": "3.8.1"
  },
  "toc": {
   "colors": {
    "hover_highlight": "#DAA520",
    "navigate_num": "#000000",
    "navigate_text": "#333333",
    "running_highlight": "#FF0000",
    "selected_highlight": "#FFD700",
    "sidebar_border": "#EEEEEE",
    "wrapper_background": "#FFFFFF"
   },
   "moveMenuLeft": true,
   "nav_menu": {},
   "navigate_menu": true,
   "number_sections": true,
   "sideBar": true,
   "skip_h1_title": false,
   "threshold": "2",
   "title_cell": "Table of Contents",
   "title_sidebar": "Contents",
   "toc_cell": true,
   "toc_position": {},
   "toc_section_display": true,
   "toc_window_display": false,
   "widenNotebook": false
  },
  "varInspector": {
   "cols": {
    "lenName": 16,
    "lenType": 16,
    "lenVar": 40
   },
   "kernels_config": {
    "python": {
     "delete_cmd_postfix": "",
     "delete_cmd_prefix": "del ",
     "library": "var_list.py",
     "varRefreshCmd": "print(var_dic_list())"
    },
    "r": {
     "delete_cmd_postfix": ") ",
     "delete_cmd_prefix": "rm(",
     "library": "var_list.r",
     "varRefreshCmd": "cat(var_dic_list()) "
    }
   },
   "types_to_exclude": [
    "module",
    "function",
    "builtin_function_or_method",
    "instance",
    "_Feature"
   ],
   "window_display": false
  }
 },
 "nbformat": 4,
 "nbformat_minor": 2
}
