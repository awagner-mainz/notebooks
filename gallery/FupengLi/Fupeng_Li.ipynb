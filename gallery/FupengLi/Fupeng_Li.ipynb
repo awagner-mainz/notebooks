{
 "cells": [
  {
   "cell_type": "markdown",
   "metadata": {
    "toc": "true"
   },
   "source": [
    "<h1>Table of Contents<span class=\"tocSkip\"></span></h1>\n",
    "<div class=\"toc\"><ul class=\"toc-item\"><li><span><a href=\"#Table-of-Contents\" data-toc-modified-id=\"Table-of-Contents-1\"><span class=\"toc-item-num\">1&nbsp;&nbsp;</span>Table of Contents</a></span></li></ul></div>"
   ]
  },
  {
   "cell_type": "markdown",
   "metadata": {
    "toc": true
   },
   "source": [
    "<h1>Table of Contents<span class=\"tocSkip\"></span></h1>\n",
    "<div class=\"toc\"><ul class=\"toc-item\"></ul></div>"
   ]
  },
  {
   "cell_type": "markdown",
   "metadata": {},
   "source": [
    "Citation network of drafts of Chinese constitution\n",
    "\n",
    "Hive Plot visualization"
   ]
  },
  {
   "cell_type": "raw",
   "metadata": {
    "ExecuteTime": {
     "end_time": "2019-10-21T20:23:49.637341Z",
     "start_time": "2019-10-21T20:23:47.822433Z"
    }
   },
   "source": [
    "# Install a pip package in the current Jupyter kernel\n",
    "import sys\n",
    "!{sys.executable} -m pip install pyveplot"
   ]
  },
  {
   "cell_type": "code",
   "execution_count": 1,
   "metadata": {
    "ExecuteTime": {
     "end_time": "2019-10-21T22:27:27.121903Z",
     "start_time": "2019-10-21T22:27:26.609921Z"
    },
    "collapsed": true
   },
   "outputs": [],
   "source": [
    "from pyveplot import Hiveplot, Axis, Node\n",
    "import networkx as nx\n",
    "import csv\n",
    "\n",
    "G = nx.DiGraph()\n",
    "\n",
    "with open('nodes.csv') as csvfile:\n",
    "    readCSV = csv.reader(csvfile, delimiter=',')\n",
    "\n",
    "    for i, data in enumerate(readCSV):\n",
    "        if data[0] != \"id\":\n",
    "            G.add_node(data[0], idx=i, axis=data[1], label=data[2], pos=data[3], height=data[4])\n",
    "\n",
    "with open('edges_v2.csv') as csvfile:\n",
    "    readCSV = csv.reader(csvfile, delimiter=',')\n",
    "\n",
    "    for row in readCSV:\n",
    "        if row[0] != \"source\":\n",
    "            G.add_edge(row[0], row[1])"
   ]
  },
  {
   "cell_type": "code",
   "execution_count": 2,
   "metadata": {
    "ExecuteTime": {
     "end_time": "2019-10-21T22:27:27.140860Z",
     "start_time": "2019-10-21T22:27:27.125247Z"
    }
   },
   "outputs": [
    {
     "data": {
      "text/plain": [
       "NodeDataView({'a01': {'idx': 1, 'axis': 'Draft Articles', 'label': 'Draft 1923_1923/1', 'pos': '1', 'height': '8'}, 'a02': {'idx': 2, 'axis': 'Draft Articles', 'label': 'Draft 1923_1923/2 (1)', 'pos': '11', 'height': '8'}, 'a03': {'idx': 3, 'axis': 'Draft Articles', 'label': 'Draft 1923_1923/2 (2)', 'pos': '21', 'height': '8'}, 'a04': {'idx': 4, 'axis': 'Draft Articles', 'label': 'Draft 1923_1923/2 (3)', 'pos': '31', 'height': '8'}, 'a05': {'idx': 5, 'axis': 'Draft Articles', 'label': 'Draft 1923_1923/2 (4)', 'pos': '41', 'height': '8'}, 'a06': {'idx': 6, 'axis': 'Draft Articles', 'label': 'Draft 1923_1923/3 (1)', 'pos': '51', 'height': '8'}, 'a07': {'idx': 7, 'axis': 'Draft Articles', 'label': 'Draft 1923_1923/3 (2)', 'pos': '61', 'height': '8'}, 'a08': {'idx': 8, 'axis': 'Draft Articles', 'label': 'Draft 1923_1923/3 (3)', 'pos': '71', 'height': '8'}, 'a09': {'idx': 9, 'axis': 'Draft Articles', 'label': 'Draft 1923_1923/4', 'pos': '81', 'height': '8'}, 'a10': {'idx': 10, 'axis': 'Draft Articles', 'label': 'Draft 1923_1923/5', 'pos': '91', 'height': '8'}, 'a11': {'idx': 11, 'axis': 'Draft Articles', 'label': 'Draft 1923_1923/6', 'pos': '101', 'height': '8'}, 'a12': {'idx': 12, 'axis': 'Draft Articles', 'label': 'Draft 1923_1923/7', 'pos': '111', 'height': '8'}, 'a28': {'idx': 13, 'axis': 'Draft Articles', 'label': 'Draft 1936_1936/Introduction', 'pos': '115', 'height': '8'}, 'a13': {'idx': 14, 'axis': 'Draft Articles', 'label': 'Draft 1936_1936/116', 'pos': '125', 'height': '8'}, 'a14': {'idx': 15, 'axis': 'Draft Articles', 'label': 'Draft 1936_1936/117', 'pos': '135', 'height': '8'}, 'a15': {'idx': 16, 'axis': 'Draft Articles', 'label': 'Draft 1936_1936/118', 'pos': '145', 'height': '8'}, 'a16': {'idx': 17, 'axis': 'Draft Articles', 'label': 'Draft 1936_1936/119', 'pos': '155', 'height': '8'}, 'a17': {'idx': 18, 'axis': 'Draft Articles', 'label': 'Draft 1936_1936/120', 'pos': '165', 'height': '8'}, 'a18': {'idx': 19, 'axis': 'Draft Articles', 'label': 'Draft 1936_1936/121', 'pos': '175', 'height': '8'}, 'a19': {'idx': 20, 'axis': 'Draft Articles', 'label': 'Draft 1936_1936/122', 'pos': '185', 'height': '8'}, 'a20': {'idx': 21, 'axis': 'Draft Articles', 'label': 'Draft 1936_1936/123', 'pos': '195', 'height': '8'}, 'a21': {'idx': 22, 'axis': 'Draft Articles', 'label': 'Draft 1936_1936/124', 'pos': '205', 'height': '8'}, 'a22': {'idx': 23, 'axis': 'Draft Articles', 'label': 'Draft 1936_1936/125', 'pos': '215', 'height': '8'}, 'a23': {'idx': 24, 'axis': 'Draft Articles', 'label': 'Draft 1936_1936/126', 'pos': '225', 'height': '8'}, 'a24': {'idx': 25, 'axis': 'Draft Articles', 'label': 'Draft 1936_1936/127', 'pos': '235', 'height': '8'}, 'a25': {'idx': 26, 'axis': 'Draft Articles', 'label': 'Draft 1936_1936/128', 'pos': '245', 'height': '8'}, 'a26': {'idx': 27, 'axis': 'Draft Articles', 'label': 'Draft 1936_1936/129', 'pos': '255', 'height': '8'}, 'a27': {'idx': 28, 'axis': 'Draft Articles', 'label': 'Draft 1936_1936/130', 'pos': '265', 'height': '8'}, 'f67': {'idx': 29, 'axis': 'Foreign Legislation', 'label': 'Switzerland 1874', 'pos': '10', 'height': '1'}, 'f68': {'idx': 30, 'axis': 'Foreign Legislation', 'label': 'Switzerland 1874_Art.34', 'pos': '11', 'height': '1'}, 'f69': {'idx': 31, 'axis': 'Foreign Legislation', 'label': 'Switzerland 1874_Art.34 (2)', 'pos': '12', 'height': '1'}, 'f57': {'idx': 32, 'axis': 'Foreign Legislation', 'label': 'Portugal 1911', 'pos': '15', 'height': '1'}, 'f58': {'idx': 33, 'axis': 'Foreign Legislation', 'label': 'Portugal 1911_Art.25', 'pos': '16', 'height': '1'}, 'f39': {'idx': 34, 'axis': 'Foreign Legislation', 'label': 'Mexico 1917', 'pos': '19', 'height': '1'}, 'f42': {'idx': 35, 'axis': 'Foreign Legislation', 'label': 'Mexico 1917_Art.27 (4)', 'pos': '20', 'height': '1'}, 'f40': {'idx': 36, 'axis': 'Foreign Legislation', 'label': 'Mexico 1917_Art.123 (1-30)', 'pos': '21', 'height': '1'}, 'f41': {'idx': 37, 'axis': 'Foreign Legislation', 'label': 'Mexico 1917_Art.123 (29)', 'pos': '22', 'height': '1'}, 'f72': {'idx': 38, 'axis': 'Foreign Legislation', 'label': 'The Soviet Russia 1918', 'pos': '25', 'height': '1'}, 'f73': {'idx': 39, 'axis': 'Foreign Legislation', 'label': 'The Soviet Russia 1918_Art.10', 'pos': '26', 'height': '1'}, 'f74': {'idx': 40, 'axis': 'Foreign Legislation', 'label': 'The Soviet Russia 1918_Art.18', 'pos': '27', 'height': '1'}, 'f75': {'idx': 41, 'axis': 'Foreign Legislation', 'label': 'The Soviet Russia 1918_Art.64', 'pos': '28', 'height': '1'}, 'f12': {'idx': 42, 'axis': 'Foreign Legislation', 'label': 'Germany 1919', 'pos': '31', 'height': '1'}, 'f30': {'idx': 43, 'axis': 'Foreign Legislation', 'label': 'Germany 1919_Economic Life', 'pos': '32', 'height': '1'}, 'f13': {'idx': 44, 'axis': 'Foreign Legislation', 'label': 'Germany 1919_Art.151', 'pos': '33', 'height': '1'}, 'f14': {'idx': 45, 'axis': 'Foreign Legislation', 'label': 'Germany 1919_Art.152', 'pos': '34', 'height': '1'}, 'f15': {'idx': 46, 'axis': 'Foreign Legislation', 'label': 'Germany 1919_Art.153', 'pos': '35', 'height': '1'}, 'f16': {'idx': 47, 'axis': 'Foreign Legislation', 'label': 'Germany 1919_Art.154 (2)', 'pos': '36', 'height': '1'}, 'f17': {'idx': 48, 'axis': 'Foreign Legislation', 'label': 'Germany 1919_Art.155 (1)', 'pos': '37', 'height': '1'}, 'f18': {'idx': 49, 'axis': 'Foreign Legislation', 'label': 'Germany 1919_Art.155 (4)', 'pos': '38', 'height': '1'}, 'f19': {'idx': 50, 'axis': 'Foreign Legislation', 'label': 'Germany 1919_Art.156', 'pos': '39', 'height': '1'}, 'f20': {'idx': 51, 'axis': 'Foreign Legislation', 'label': 'Germany 1919_Art.157', 'pos': '40', 'height': '1'}, 'f21': {'idx': 52, 'axis': 'Foreign Legislation', 'label': 'Germany 1919_Art.158', 'pos': '41', 'height': '1'}, 'f22': {'idx': 53, 'axis': 'Foreign Legislation', 'label': 'Germany 1919_Art.158 (1)', 'pos': '42', 'height': '1'}, 'f23': {'idx': 54, 'axis': 'Foreign Legislation', 'label': 'Germany 1919_Art.159', 'pos': '43', 'height': '1'}, 'f24': {'idx': 55, 'axis': 'Foreign Legislation', 'label': 'Germany 1919_Art.160', 'pos': '44', 'height': '1'}, 'f25': {'idx': 56, 'axis': 'Foreign Legislation', 'label': 'Germany 1919_Art.161', 'pos': '45', 'height': '1'}, 'f26': {'idx': 57, 'axis': 'Foreign Legislation', 'label': 'Germany 1919_Art.162', 'pos': '46', 'height': '1'}, 'f27': {'idx': 58, 'axis': 'Foreign Legislation', 'label': 'Germany 1919_Art.163', 'pos': '47', 'height': '1'}, 'f28': {'idx': 59, 'axis': 'Foreign Legislation', 'label': 'Germany 1919_Art.164', 'pos': '48', 'height': '1'}, 'f29': {'idx': 60, 'axis': 'Foreign Legislation', 'label': 'Germany 1919_Art.165', 'pos': '49', 'height': '1'}, 'f86': {'idx': 61, 'axis': 'Foreign Legislation', 'label': 'Treaty of Versailles 1919', 'pos': '52', 'height': '1'}, 'f01': {'idx': 62, 'axis': 'Foreign Legislation', 'label': 'Austria 1920', 'pos': '55', 'height': '1'}, 'f02': {'idx': 63, 'axis': 'Foreign Legislation', 'label': 'Austria 1920_Art.11 (2)', 'pos': '56', 'height': '1'}, 'f04': {'idx': 64, 'axis': 'Foreign Legislation', 'label': 'Czechoslovakia 1920', 'pos': '59', 'height': '1'}, 'f05': {'idx': 65, 'axis': 'Foreign Legislation', 'label': 'Czechoslovakia 1920_Art.108', 'pos': '60', 'height': '1'}, 'f06': {'idx': 66, 'axis': 'Foreign Legislation', 'label': 'Czechoslovakia 1920_Art.109', 'pos': '61', 'height': '1'}, 'f09': {'idx': 67, 'axis': 'Foreign Legislation', 'label': 'Estonia 1920', 'pos': '64', 'height': '1'}, 'f10': {'idx': 68, 'axis': 'Foreign Legislation', 'label': 'Estonia 1920_Art.18 (3)', 'pos': '65', 'height': '1'}, 'f11': {'idx': 69, 'axis': 'Foreign Legislation', 'label': 'Far Eastern Republic/Chita 1920', 'pos': '68', 'height': '1'}, 'f70': {'idx': 70, 'axis': 'Foreign Legislation', 'label': 'The Covenant of the League of Nations 1920', 'pos': '71', 'height': '1'}, 'f71': {'idx': 71, 'axis': 'Foreign Legislation', 'label': 'The Covenant of the League of Nations 1920_Art.23', 'pos': '72', 'height': '1'}, 'f51': {'idx': 72, 'axis': 'Foreign Legislation', 'label': 'Poland 1921', 'pos': '75', 'height': '1'}, 'f54': {'idx': 73, 'axis': 'Foreign Legislation', 'label': 'Poland 1921_Art.68', 'pos': '76', 'height': '1'}, 'f55': {'idx': 74, 'axis': 'Foreign Legislation', 'label': 'Poland 1921_Art.99', 'pos': '77', 'height': '1'}, 'f56': {'idx': 75, 'axis': 'Foreign Legislation', 'label': 'Poland 1921_Art.99 (2)', 'pos': '78', 'height': '1'}, 'f52': {'idx': 76, 'axis': 'Foreign Legislation', 'label': 'Poland 1921_Art.102', 'pos': '79', 'height': '1'}, 'f53': {'idx': 77, 'axis': 'Foreign Legislation', 'label': 'Poland 1921_Art.103', 'pos': '80', 'height': '1'}, 'f43': {'idx': 78, 'axis': 'Foreign Legislation', 'label': 'Netherlands 1922', 'pos': '83', 'height': '1'}, 'f44': {'idx': 79, 'axis': 'Foreign Legislation', 'label': 'Netherlands 1922_Art.196', 'pos': '84', 'height': '1'}, 'f61': {'idx': 80, 'axis': 'Foreign Legislation', 'label': 'Romania 1923', 'pos': '87', 'height': '1'}, 'f62': {'idx': 81, 'axis': 'Foreign Legislation', 'label': 'Romania 1923_Art.19', 'pos': '88', 'height': '1'}, 'f63': {'idx': 82, 'axis': 'Foreign Legislation', 'label': 'Romania 1923_Art.21', 'pos': '89', 'height': '1'}, 'f31': {'idx': 83, 'axis': 'Foreign Legislation', 'label': 'Honduras 1924', 'pos': '92', 'height': '1'}, 'f32': {'idx': 84, 'axis': 'Foreign Legislation', 'label': 'Honduras 1924_Art.175', 'pos': '93', 'height': '1'}, 'f33': {'idx': 85, 'axis': 'Foreign Legislation', 'label': 'Honduras 1924_Art.176', 'pos': '94', 'height': '1'}, 'f34': {'idx': 86, 'axis': 'Foreign Legislation', 'label': 'Honduras 1924_Art.177', 'pos': '95', 'height': '1'}, 'f35': {'idx': 87, 'axis': 'Foreign Legislation', 'label': 'Lithuania 1928', 'pos': '98', 'height': '1'}, 'f36': {'idx': 88, 'axis': 'Foreign Legislation', 'label': 'Lithuania 1928_Art.98', 'pos': '99', 'height': '1'}, 'f37': {'idx': 89, 'axis': 'Foreign Legislation', 'label': 'Lithuania 1928_Art.98 (2)', 'pos': '100', 'height': '1'}, 'f38': {'idx': 90, 'axis': 'Foreign Legislation', 'label': 'Lithuania 1928_Art.99 (2)', 'pos': '101', 'height': '1'}, 'f07': {'idx': 91, 'axis': 'Foreign Legislation', 'label': 'Ecuador 1929', 'pos': '104', 'height': '1'}, 'f08': {'idx': 92, 'axis': 'Foreign Legislation', 'label': 'Ecuador 1929_Art.151 (14)', 'pos': '105', 'height': '1'}, 'f64': {'idx': 93, 'axis': 'Foreign Legislation', 'label': 'Spain 1931', 'pos': '108', 'height': '1'}, 'f65': {'idx': 94, 'axis': 'Foreign Legislation', 'label': 'Spain 1931_Art.46', 'pos': '109', 'height': '1'}, 'f66': {'idx': 95, 'axis': 'Foreign Legislation', 'label': 'Spain 1931_Art.46 (2)', 'pos': '110', 'height': '1'}, 'f87': {'idx': 96, 'axis': 'Foreign Legislation', 'label': 'Yugoslavia 1931', 'pos': '113', 'height': '1'}, 'f89': {'idx': 97, 'axis': 'Foreign Legislation', 'label': 'Yugoslavia 1931_Art.22', 'pos': '114', 'height': '1'}, 'f90': {'idx': 98, 'axis': 'Foreign Legislation', 'label': 'Yugoslavia 1931_Art.23', 'pos': '115', 'height': '1'}, 'f91': {'idx': 99, 'axis': 'Foreign Legislation', 'label': 'Yugoslavia 1931_Art.24', 'pos': '116', 'height': '1'}, 'f92': {'idx': 100, 'axis': 'Foreign Legislation', 'label': 'Yugoslavia 1931_Art.31', 'pos': '117', 'height': '1'}, 'f93': {'idx': 101, 'axis': 'Foreign Legislation', 'label': 'Yugoslavia 1931_Art.33', 'pos': '118', 'height': '1'}, 'f88': {'idx': 102, 'axis': 'Foreign Legislation', 'label': 'Yugoslavia 1931_Art.117 (4)', 'pos': '119', 'height': '1'}, 'f45': {'idx': 103, 'axis': 'Foreign Legislation', 'label': 'Peru 1933', 'pos': '122', 'height': '1'}, 'f46': {'idx': 104, 'axis': 'Foreign Legislation', 'label': 'Peru 1933_Art.42', 'pos': '123', 'height': '1'}, 'f47': {'idx': 105, 'axis': 'Foreign Legislation', 'label': 'Peru 1933_Art.43', 'pos': '124', 'height': '1'}, 'f48': {'idx': 106, 'axis': 'Foreign Legislation', 'label': 'Peru 1933_Art.44', 'pos': '125', 'height': '1'}, 'f49': {'idx': 107, 'axis': 'Foreign Legislation', 'label': 'Peru 1933_Art.45', 'pos': '126', 'height': '1'}, 'f50': {'idx': 108, 'axis': 'Foreign Legislation', 'label': 'Peru 1933_Art.46', 'pos': '127', 'height': '1'}, 'f59': {'idx': 109, 'axis': 'Foreign Legislation', 'label': 'Portugal 1933', 'pos': '130', 'height': '1'}, 'f60': {'idx': 110, 'axis': 'Foreign Legislation', 'label': 'Portugal 1933_Art.49', 'pos': '131', 'height': '1'}, 'f76': {'idx': 111, 'axis': 'Foreign Legislation', 'label': 'The Soviet Union 1936', 'pos': '134', 'height': '1'}, 'f85': {'idx': 112, 'axis': 'Foreign Legislation', 'label': 'The Soviet Union 1936_Chapter one', 'pos': '135', 'height': '1'}, 'f83': {'idx': 113, 'axis': 'Foreign Legislation', 'label': 'The Soviet Union 1936_Art.7', 'pos': '136', 'height': '1'}, 'f84': {'idx': 114, 'axis': 'Foreign Legislation', 'label': 'The Soviet Union 1936_Art.9', 'pos': '137', 'height': '1'}, 'f77': {'idx': 115, 'axis': 'Foreign Legislation', 'label': 'The Soviet Union 1936_Art.118', 'pos': '138', 'height': '1'}, 'f78': {'idx': 116, 'axis': 'Foreign Legislation', 'label': 'The Soviet Union 1936_Art.119', 'pos': '139', 'height': '1'}, 'f79': {'idx': 117, 'axis': 'Foreign Legislation', 'label': 'The Soviet Union 1936_Art.120', 'pos': '140', 'height': '1'}, 'f80': {'idx': 118, 'axis': 'Foreign Legislation', 'label': 'The Soviet Union 1936_Art.122 (2)', 'pos': '141', 'height': '1'}, 'f81': {'idx': 119, 'axis': 'Foreign Legislation', 'label': 'The Soviet Union 1936_Art.125', 'pos': '142', 'height': '1'}, 'f82': {'idx': 120, 'axis': 'Foreign Legislation', 'label': 'The Soviet Union 1936_Art.126', 'pos': '143', 'height': '1'}, 'f03': {'idx': 121, 'axis': 'Foreign Legislation', 'label': 'Constitutions of Modern Nations', 'pos': '146', 'height': '1'}, 't01': {'idx': 122, 'axis': 'Traditional Sources', 'label': 'Ancient Poetry', 'pos': '10', 'height': '3'}, 't02': {'idx': 123, 'axis': 'Traditional Sources', 'label': 'Book of Changes', 'pos': '15', 'height': '3'}, 't03': {'idx': 124, 'axis': 'Traditional Sources', 'label': 'Book of Han', 'pos': '20', 'height': '3'}, 't04': {'idx': 125, 'axis': 'Traditional Sources', 'label': 'Book of Mencius', 'pos': '25', 'height': '3'}, 't05': {'idx': 126, 'axis': 'Traditional Sources', 'label': 'Book of Rites', 'pos': '30', 'height': '3'}, 't06': {'idx': 127, 'axis': 'Traditional Sources', 'label': 'Mencius', 'pos': '35', 'height': '3'}, 't07': {'idx': 128, 'axis': 'Traditional Sources', 'label': 'Pre-Qin Scholars', 'pos': '40', 'height': '3'}, 't08': {'idx': 129, 'axis': 'Traditional Sources', 'label': \"Principle of People's Livelihood\", 'pos': '45', 'height': '1'}, 't09': {'idx': 130, 'axis': 'Traditional Sources', 'label': \"Principle of People's Livelihood_Lecture 1\", 'pos': '46', 'height': '1'}, 't10': {'idx': 131, 'axis': 'Traditional Sources', 'label': \"Principle of People's Livelihood_Lecture 2\", 'pos': '47', 'height': '1'}, 't11': {'idx': 132, 'axis': 'Traditional Sources', 'label': \"Principle of People's Livelihood_Lecture 3\", 'pos': '48', 'height': '1'}, 't12': {'idx': 133, 'axis': 'Traditional Sources', 'label': \"Founding Father's Lecture\", 'pos': '50', 'height': '3'}, 't13': {'idx': 134, 'axis': 'Traditional Sources', 'label': 'Fundamentals of National Reconstruction', 'pos': '55', 'height': '3'}, 't14': {'idx': 135, 'axis': 'Traditional Sources', 'label': 'The Fundamentals of National Reconstruction', 'pos': '60', 'height': '3'}, 't15': {'idx': 136, 'axis': 'Traditional Sources', 'label': 'The International Development of China', 'pos': '65', 'height': '3'}, 't16': {'idx': 137, 'axis': 'Traditional Sources', 'label': 'The Manifesto of the First National Congress of the KMT', 'pos': '70', 'height': '3'}, 't17': {'idx': 138, 'axis': 'Traditional Sources', 'label': 'The Manifesto of the Tongmenghui', 'pos': '75', 'height': '3'}, 't18': {'idx': 139, 'axis': 'Traditional Sources', 'label': 'The Outline of National Reconstruction', 'pos': '80', 'height': '3'}})"
      ]
     },
     "execution_count": 2,
     "metadata": {},
     "output_type": "execute_result"
    }
   ],
   "source": [
    "G.nodes.data()"
   ]
  },
  {
   "cell_type": "code",
   "execution_count": 3,
   "metadata": {
    "ExecuteTime": {
     "end_time": "2019-10-21T22:27:30.483462Z",
     "start_time": "2019-10-21T22:27:27.144785Z"
    },
    "collapsed": true
   },
   "outputs": [],
   "source": [
    "colors = {}\n",
    "colors[0] = ['#aae890', # bright green\n",
    "             '#4daf4a', # apple green \n",
    "             '#72b077'  # greyish green\n",
    "            ]\n",
    "colors[1] = ['#e41a1c', # red\n",
    "             '#377eb8', # cold blue\n",
    "             '#984ea3', # purple\n",
    "             '#ff7f00', # orange\n",
    "             '#a65628', # brown\n",
    "             '#f781bf'  # pink\n",
    "            ]\n",
    "colors[2] = ['#ffff33'] # bright yellow\n",
    "\n",
    "\n",
    "# create hiveplot object\n",
    "h = Hiveplot('hiveplot.svg')\n",
    "\n",
    "# create three axes, spaced at 120 degrees from each other\n",
    "h.axes = [Axis(start=20, angle=-90,\n",
    "               stroke=colors[0][0], stroke_width=1),\n",
    "          Axis(start=20, angle=-90 + 120,\n",
    "               stroke=colors[1][0], stroke_width=1),\n",
    "          Axis(start=20, angle=-90 + 120 + 120,\n",
    "               stroke=colors[2][0], stroke_width=1)\n",
    "          ]\n",
    "\n",
    "# categorize them into three groups\n",
    "draft_articles = [v for v in G.nodes() if G.nodes[v]['axis'] == \"Draft Articles\"]\n",
    "foreign_leg    = [v for v in G.nodes() if G.nodes[v]['axis'] == \"Foreign Legislation\"]\n",
    "trad_sources   = [v for v in G.nodes() if G.nodes[v]['axis'] == \"Traditional Sources\"]\n",
    "\n",
    "# place these nodes onto our three axes\n",
    "for axis, nodes in zip(h.axes,\n",
    "                       [draft_articles, foreign_leg, trad_sources]):\n",
    "    s = \"\"\n",
    "    color_idx = -1\n",
    "    circle_color = colors[2][0]\n",
    "    for v in nodes:\n",
    "        if axis == h.axes[0] and G.nodes[v]['label'][:10] != s :\n",
    "            color_idx += 1\n",
    "            circle_color = colors[0][color_idx % len(colors[0])]\n",
    "            s = G.nodes[v]['label'][:10]\n",
    "        if axis == h.axes[1] and G.nodes[v]['label'][:4] != s :\n",
    "            color_idx +=1\n",
    "            circle_color = colors[1][color_idx % len(colors[1])]\n",
    "            s = G.nodes[v]['label'][:4]\n",
    "        # create node object\n",
    "        node = Node(radius=8,\n",
    "                    label=\"%s\" % (G.nodes[v]['label']))\n",
    "        # add it to axis\n",
    "        axis.add_node(v, node)\n",
    "        # once it has x, y coordinates, add a circle\n",
    "        node.add_circle(fill=circle_color, stroke=circle_color,\n",
    "                        stroke_width=0.1, fill_opacity=0.7)\n",
    "        if axis.angle < 0:\n",
    "            orientation = 1\n",
    "            scale = 0.6\n",
    "        else:\n",
    "            orientation = -1\n",
    "            scale = 0.35\n",
    "        # also add a label\n",
    "        node.add_label(label=\"%s\" % (G.nodes[v]['label']),\n",
    "                       angle=axis.angle + 90 * orientation,\n",
    "                       scale=scale)\n",
    "\n",
    "# iterate through axes, from left to right\n",
    "for n in range(-1, len(h.axes) - 1):\n",
    "    # draw curves between nodes connected by edges in network\n",
    "    h.connect_axes(h.axes[n],\n",
    "                   h.axes[n+1],\n",
    "                   G.edges,\n",
    "                   stroke_width=0.3,\n",
    "                   stroke='#999999')\n",
    "\n",
    "# save output\n",
    "h.save('hiveplot.svg')"
   ]
  }
 ],
 "metadata": {
  "anaconda-cloud": {},
  "kernelspec": {
   "display_name": "Python 3",
   "language": "python",
   "name": "python3"
  },
  "language_info": {
   "codemirror_mode": {
    "name": "ipython",
    "version": 3
   },
   "file_extension": ".py",
   "mimetype": "text/x-python",
   "name": "python",
   "nbconvert_exporter": "python",
   "pygments_lexer": "ipython3",
   "version": "3.6.3"
  },
  "toc": {
   "nav_menu": {},
   "number_sections": true,
   "sideBar": true,
   "skip_h1_title": false,
   "title_cell": "Table of Contents",
   "title_sidebar": "Contents",
   "toc_cell": true,
   "toc_position": {},
   "toc_section_display": true,
   "toc_window_display": false
  },
  "varInspector": {
   "cols": {
    "lenName": 16,
    "lenType": 16,
    "lenVar": 40
   },
   "kernels_config": {
    "python": {
     "delete_cmd_postfix": "",
     "delete_cmd_prefix": "del ",
     "library": "var_list.py",
     "varRefreshCmd": "print(var_dic_list())"
    },
    "r": {
     "delete_cmd_postfix": ") ",
     "delete_cmd_prefix": "rm(",
     "library": "var_list.r",
     "varRefreshCmd": "cat(var_dic_list()) "
    }
   },
   "types_to_exclude": [
    "module",
    "function",
    "builtin_function_or_method",
    "instance",
    "_Feature"
   ],
   "window_display": false
  }
 },
 "nbformat": 4,
 "nbformat_minor": 2
}
