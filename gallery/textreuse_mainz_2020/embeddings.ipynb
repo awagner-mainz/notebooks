{
 "cells": [
  {
   "cell_type": "code",
   "execution_count": 1,
   "metadata": {
    "ExecuteTime": {
     "end_time": "2020-02-15T09:26:05.276739Z",
     "start_time": "2020-02-15T09:26:05.220730Z"
    }
   },
   "outputs": [
    {
     "name": "stdout",
     "output_type": "stream",
     "text": [
      "Parsed 3 segmented editions: ['azp1552_ch17', 'azp1556_ch17', 'azp1573_ch17']\n",
      "\n",
      "azp1552_ch17 has 387 segments (['azp1552_ch17_0', 'azp1552_ch17_1', 'azp1552_ch17_2', 'azp1552_ch17_3', 'azp1552_ch17_4'] ...).\n",
      "azp1556_ch17 has 591 segments (['azp1556_ch17_0', 'azp1556_ch17_1', 'azp1556_ch17_2', 'azp1556_ch17_3', 'azp1556_ch17_4'] ...).\n",
      "azp1573_ch17 has 5 segments (['azp1573_ch17_0', 'azp1573_ch17_1', 'azp1573_ch17_2', 'azp1573_ch17_3', 'azp1573_ch17_4'] ...).\n"
     ]
    }
   ],
   "source": [
    "import os\n",
    "import sys\n",
    "import glob\n",
    "import csv\n",
    "import ctypes\n",
    "\n",
    "cmp_pairs = [('azp1552', 'azp1556'),\n",
    "             ('azp1556', 'azp1573')]\n",
    "\n",
    "segmented_dir = \"./data/manual\"\n",
    "csv.field_size_limit(int(ctypes.c_ulong(-1).value // 2))\n",
    "\n",
    "segmented = {}\n",
    "\n",
    "for file in glob.glob(segmented_dir + \"/*_seg.csv\"):\n",
    "    segmented[os.path.splitext(os.path.basename(file))[0][:-4]] = {}\n",
    "\n",
    "    with open(file, newline='', encoding='utf-8') as csvfile:\n",
    "        reader = csv.reader(csvfile)\n",
    "        for row in reader:\n",
    "            segmented[os.path.splitext(os.path.basename(file))[0][:-4]][row[0]] = row[1]\n",
    "\n",
    "editions = list(segmented.keys())\n",
    "\n",
    "print (\"Parsed {} segmented editions: {}\\n\".format(len(segmented), editions))\n",
    "\n",
    "for ed in editions:\n",
    "    print(\"{} has {:n} segments ({} ...).\".format(ed, len(segmented[ed]), list(segmented[ed].keys())[0:5]))"
   ]
  },
  {
   "cell_type": "code",
   "execution_count": 2,
   "metadata": {
    "ExecuteTime": {
     "end_time": "2020-02-15T09:26:08.487373Z",
     "start_time": "2020-02-15T09:26:08.048645Z"
    }
   },
   "outputs": [
    {
     "name": "stdout",
     "output_type": "stream",
     "text": [
      "tensor([[0.3425, 0.6921, 0.4903],\n",
      "        [0.4602, 0.3310, 0.5553],\n",
      "        [0.4410, 0.0047, 0.1565],\n",
      "        [0.4233, 0.8458, 0.0175],\n",
      "        [0.2623, 0.3609, 0.0075]])\n"
     ]
    },
    {
     "data": {
      "text/plain": [
       "False"
      ]
     },
     "execution_count": 2,
     "metadata": {},
     "output_type": "execute_result"
    }
   ],
   "source": [
    "# Check pytorch install\n",
    "from __future__ import print_function\n",
    "import torch\n",
    "x = torch.rand(5, 3)\n",
    "print(x)\n",
    "torch.cuda.is_available()"
   ]
  },
  {
   "cell_type": "markdown",
   "metadata": {},
   "source": [
    "Use Universal Embeddings: embeddings that are pre-trained on a large corpus... Transfer Learning...\n"
   ]
  },
  {
   "cell_type": "code",
   "execution_count": 5,
   "metadata": {
    "ExecuteTime": {
     "end_time": "2020-02-15T11:06:36.150943Z",
     "start_time": "2020-02-15T11:06:22.043579Z"
    }
   },
   "outputs": [
    {
     "name": "stderr",
     "output_type": "stream",
     "text": [
      "Using cache found in /dev/shm/torch/hub/pytorch_fairseq_master\n",
      "INFO:fairseq.file_utils:loading archive file http://dl.fbaipublicfiles.com/fairseq/models/xlmr.large.tar.gz from cache at /dev/shm/torch/pytorch_fairseq/3f864e15bb396f062dd37494309dbc4238416edd1f8ef293df18b1424813f2fe.cf46c7deb6b9eaa3e47c17b9fc181669c52bc639c165fbc69166a61487662ac9\n",
      "INFO:fairseq.tasks.multilingual_masked_lm:dictionary: 250001 types\n"
     ]
    },
    {
     "ename": "NameError",
     "evalue": "name 'la_tokens' is not defined",
     "output_type": "error",
     "traceback": [
      "\u001b[0;31m---------------------------------------------------------------------------\u001b[0m",
      "\u001b[0;31mNameError\u001b[0m                                 Traceback (most recent call last)",
      "\u001b[0;32m<ipython-input-5-92bbb5aca6b3>\u001b[0m in \u001b[0;36m<module>\u001b[0;34m\u001b[0m\n\u001b[1;32m     16\u001b[0m \u001b[0;34m\u001b[0m\u001b[0m\n\u001b[1;32m     17\u001b[0m \u001b[0;31m# Extract the last layer's features\u001b[0m\u001b[0;34m\u001b[0m\u001b[0;34m\u001b[0m\u001b[0;34m\u001b[0m\u001b[0m\n\u001b[0;32m---> 18\u001b[0;31m \u001b[0mlast_layer_features\u001b[0m \u001b[0;34m=\u001b[0m \u001b[0mxlmr\u001b[0m\u001b[0;34m.\u001b[0m\u001b[0mextract_features\u001b[0m\u001b[0;34m(\u001b[0m\u001b[0mla_tokens\u001b[0m\u001b[0;34m)\u001b[0m\u001b[0;34m\u001b[0m\u001b[0;34m\u001b[0m\u001b[0m\n\u001b[0m\u001b[1;32m     19\u001b[0m \u001b[0;32massert\u001b[0m \u001b[0mlast_layer_features\u001b[0m\u001b[0;34m.\u001b[0m\u001b[0msize\u001b[0m\u001b[0;34m(\u001b[0m\u001b[0;34m)\u001b[0m \u001b[0;34m==\u001b[0m \u001b[0mtorch\u001b[0m\u001b[0;34m.\u001b[0m\u001b[0mSize\u001b[0m\u001b[0;34m(\u001b[0m\u001b[0;34m[\u001b[0m\u001b[0;36m1\u001b[0m\u001b[0;34m,\u001b[0m \u001b[0;36m6\u001b[0m\u001b[0;34m,\u001b[0m \u001b[0;36m1024\u001b[0m\u001b[0;34m]\u001b[0m\u001b[0;34m)\u001b[0m\u001b[0;34m\u001b[0m\u001b[0;34m\u001b[0m\u001b[0m\n\u001b[1;32m     20\u001b[0m \u001b[0;34m\u001b[0m\u001b[0m\n",
      "\u001b[0;31mNameError\u001b[0m: name 'la_tokens' is not defined"
     ]
    }
   ],
   "source": [
    "import torch\n",
    "# from transformers import BertTokenizer, BertModel, BertForMaskedLM\n",
    "from transformers import XLMTokenizer, XLMWithLMHeadModel\n",
    "# xlm-roberta-base\n",
    "# xlm-roberta-large\n",
    "# bert-base-multilingual-cased\n",
    "\n",
    "# OPTIONAL: if you want to have more information on what's happening under the hood, activate the logger as follows\n",
    "import logging\n",
    "logging.basicConfig(level=logging.INFO)\n",
    "\n",
    "\n",
    "# XLM-R model\n",
    "xlmr = torch.hub.load('pytorch/fairseq', 'xlmr.large')\n",
    "xlmr.eval()  # disable dropout (or leave in train mode to finetune)\n",
    "\n",
    "# Extract the last layer's features\n",
    "last_layer_features = xlmr.extract_features(la_tokens)\n",
    "assert last_layer_features.size() == torch.Size([1, 6, 1024])\n",
    "\n",
    "# Extract all layer's features (layer 0 is the embedding layer)\n",
    "all_layers = xlmr.extract_features(zh_tokens, return_all_hiddens=True)\n",
    "assert len(all_layers) == 25\n",
    "assert torch.all(all_layers[-1] == last_layer_features)\n",
    "\n",
    "# Load pre-trained model tokenizer (vocabulary)\n",
    "# tokenizer = BertTokenizer.from_pretrained('bert-base-uncased')\n",
    "tokenizer = XLMTokenizer.from_pretrained(\"xlm-clm-1024-enfr\")\n",
    "\n",
    "\n",
    "\n",
    "\n",
    "# Tokenize input\n",
    "text = \"[CLS] Who was Jim Henson ? [SEP] Jim Henson was a puppeteer [SEP]\"\n",
    "tokenized_text = tokenizer.tokenize(text)\n",
    "\n",
    "# Mask a token that we will try to predict back\n",
    "masked_index = 8\n",
    "tokenized_text[masked_index] = '[MASK]'\n",
    "assert tokenized_text == ['[CLS]', 'who', 'was', 'jim', 'henson', '?', '[SEP]', 'jim', '[MASK]', 'was', 'a', 'puppet', '##eer', '[SEP]']\n",
    "\n",
    "# Convert token to vocabulary indices\n",
    "indexed_tokens = tokenizer.convert_tokens_to_ids(tokenized_text)\n",
    "# Define sentence A and B indices associated to 1st and 2nd sentences (see paper)\n",
    "segments_ids = [0, 0, 0, 0, 0, 0, 0, 1, 1, 1, 1, 1, 1, 1]\n",
    "\n",
    "# Convert inputs to PyTorch tensors\n",
    "tokens_tensor    = torch.tensor([indexed_tokens])\n",
    "segments_tensors = torch.tensor([segments_ids])\n",
    "\n",
    "input_ids        = torch.tensor(tokenizer.encode(text)).unsqueeze(0)  # encode input context\n",
    "\n",
    "\n",
    "\n",
    "# Set language(s)\n",
    "print(tokenizer.lang2id)  # {'en': 0, 'fr': 1}\n",
    "\n",
    "language_id = tokenizer.lang2id['en']  # 0\n",
    "langs       = torch.tensor([language_id] * input_ids.shape[1])  # torch.tensor([0, 0, 0, ..., 0])\n",
    "\n",
    "# We reshape it to be of size (batch_size, sequence_length)\n",
    "langs = langs.view(1, -1) # is now of shape [1, sequence_length] (we have a batch size of 1)\n",
    "\n",
    "# You can then feed it all as input to your model\n",
    "outputs = model(input_ids, langs=langs)"
   ]
  }
 ],
 "metadata": {
  "kernelspec": {
   "display_name": "Python 3",
   "language": "python",
   "name": "python3"
  },
  "language_info": {
   "codemirror_mode": {
    "name": "ipython",
    "version": 3
   },
   "file_extension": ".py",
   "mimetype": "text/x-python",
   "name": "python",
   "nbconvert_exporter": "python",
   "pygments_lexer": "ipython3",
   "version": "3.8.1"
  },
  "toc": {
   "colors": {
    "hover_highlight": "#DAA520",
    "navigate_num": "#000000",
    "navigate_text": "#333333",
    "running_highlight": "#FF0000",
    "selected_highlight": "#FFD700",
    "sidebar_border": "#EEEEEE",
    "wrapper_background": "#FFFFFF"
   },
   "moveMenuLeft": true,
   "nav_menu": {},
   "navigate_menu": true,
   "number_sections": true,
   "sideBar": true,
   "threshold": "2",
   "toc_cell": false,
   "toc_section_display": "block",
   "toc_window_display": false,
   "widenNotebook": false
  },
  "varInspector": {
   "cols": {
    "lenName": 16,
    "lenType": 16,
    "lenVar": 40
   },
   "kernels_config": {
    "python": {
     "delete_cmd_postfix": "",
     "delete_cmd_prefix": "del ",
     "library": "var_list.py",
     "varRefreshCmd": "print(var_dic_list())"
    },
    "r": {
     "delete_cmd_postfix": ") ",
     "delete_cmd_prefix": "rm(",
     "library": "var_list.r",
     "varRefreshCmd": "cat(var_dic_list()) "
    }
   },
   "types_to_exclude": [
    "module",
    "function",
    "builtin_function_or_method",
    "instance",
    "_Feature"
   ],
   "window_display": false
  }
 },
 "nbformat": 4,
 "nbformat_minor": 2
}
